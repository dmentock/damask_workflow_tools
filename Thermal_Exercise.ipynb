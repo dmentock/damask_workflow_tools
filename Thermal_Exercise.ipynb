{
 "cells": [
  {
   "cell_type": "markdown",
   "id": "f5dd8cb4-39fd-446e-bf3a-17c07103af8c",
   "metadata": {},
   "source": [
    "# Thermal exercise"
   ]
  },
  {
   "cell_type": "markdown",
   "id": "eb4c4c05-af08-42b2-90ea-3372d88f5895",
   "metadata": {},
   "source": [
    "## Ex - 1\n",
    "## Run compression simulation (compression along Z axis) for 10% strain with strain rate 0.01\n",
    "## RVE size remains 1m^3\n",
    "## Initial temperature of 323 K\n",
    "## 3 cases - adiabatic, conduction, only mechanics at this temp\n",
    "## Compare stress-strain"
   ]
  },
  {
   "cell_type": "markdown",
   "id": "dc6809a6-5ecc-42b4-9ab0-59ef2eeedb0a",
   "metadata": {},
   "source": []
  },
  {
   "cell_type": "markdown",
   "id": "d6716db8-e081-465d-993c-f2953a222b25",
   "metadata": {},
   "source": [
    "## Ex -2\n",
    "## Same as above but change RVE size 1e3m ^3 (length dependence)"
   ]
  },
  {
   "cell_type": "code",
   "execution_count": null,
   "id": "6d1bfbcc-e36e-45be-ac7d-43ef6a67526b",
   "metadata": {},
   "outputs": [],
   "source": []
  }
 ],
 "metadata": {
  "kernelspec": {
   "display_name": "Python 3 (ipykernel)",
   "language": "python",
   "name": "python3"
  },
  "language_info": {
   "codemirror_mode": {
    "name": "ipython",
    "version": 3
   },
   "file_extension": ".py",
   "mimetype": "text/x-python",
   "name": "python",
   "nbconvert_exporter": "python",
   "pygments_lexer": "ipython3",
   "version": "3.12.4"
  }
 },
 "nbformat": 4,
 "nbformat_minor": 5
}

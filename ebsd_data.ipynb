{
 "cells": [
  {
   "cell_type": "code",
   "execution_count": 1,
   "id": "e4c142ab-881e-46a3-ac77-9b1882d94bb0",
   "metadata": {},
   "outputs": [],
   "source": [
    "import damask"
   ]
  },
  {
   "cell_type": "code",
   "execution_count": 2,
   "id": "006fd464-e8fb-49cb-a802-c0c07a4b31f4",
   "metadata": {},
   "outputs": [],
   "source": [
    "t = damask.Table.load('inputFile.txt')"
   ]
  },
  {
   "cell_type": "code",
   "execution_count": 3,
   "id": "f13d6637-5dc6-4c95-a2a1-eb63f3d340d5",
   "metadata": {},
   "outputs": [
    {
     "data": {
      "text/plain": [
       "\n",
       "        3:pos  pos  pos      4:qu        qu        qu        qu     phase  \\\n",
       "848627      0    0    0  0.056858  0.812907 -0.577368  0.050948  Columnar   \n",
       "848628      1    0    0  0.056858  0.812907 -0.577368  0.050948  Columnar   \n",
       "848629      2    0    0  0.056858  0.812907 -0.577368  0.050948  Columnar   \n",
       "848630      3    0    0  0.056858  0.812907 -0.577368  0.050948  Columnar   \n",
       "976825      4    0    0 -0.300349  0.649865  0.283510  0.638035  Columnar   \n",
       "...       ...  ...  ...       ...       ...       ...       ...       ...   \n",
       "362568     95   99    0 -0.033221  0.758820  0.034291  0.649548  Columnar   \n",
       "362583     96   99    0 -0.033221  0.758820  0.034291  0.649548  Columnar   \n",
       "362460     97   99    0 -0.033221  0.758820  0.034291  0.649548  Columnar   \n",
       "362527     98   99    0 -0.033221  0.758820  0.034291  0.649548  Columnar   \n",
       "362732     99   99    0 -0.033221  0.758820  0.034291  0.649548  Columnar   \n",
       "\n",
       "       homogenization  \n",
       "848627             SX  \n",
       "848628             SX  \n",
       "848629             SX  \n",
       "848630             SX  \n",
       "976825             SX  \n",
       "...               ...  \n",
       "362568             SX  \n",
       "362583             SX  \n",
       "362460             SX  \n",
       "362527             SX  \n",
       "362732             SX  \n",
       "\n",
       "[10000 rows x 9 columns]"
      ]
     },
     "execution_count": 3,
     "metadata": {},
     "output_type": "execute_result"
    }
   ],
   "source": [
    "t"
   ]
  },
  {
   "cell_type": "code",
   "execution_count": 6,
   "id": "7468fb40-9659-474e-bd4b-73d9a14ac442",
   "metadata": {},
   "outputs": [],
   "source": [
    "damask.GeomGrid.from_table(t,'pos',['qu','phase']).save('ebsd.vti')"
   ]
  },
  {
   "cell_type": "code",
   "execution_count": 7,
   "id": "326248b2-2b79-4903-b9f6-2a1823638252",
   "metadata": {},
   "outputs": [],
   "source": [
    "damask.ConfigMaterial.from_table(t,phase='phase',O='qu',homogenization='homogenization').save('material_ebsd.yaml')"
   ]
  },
  {
   "cell_type": "code",
   "execution_count": null,
   "id": "1093d640-eee0-4a98-9772-0ef78c3750da",
   "metadata": {},
   "outputs": [],
   "source": []
  }
 ],
 "metadata": {
  "kernelspec": {
   "display_name": "Python 3 (ipykernel)",
   "language": "python",
   "name": "python3"
  },
  "language_info": {
   "codemirror_mode": {
    "name": "ipython",
    "version": 3
   },
   "file_extension": ".py",
   "mimetype": "text/x-python",
   "name": "python",
   "nbconvert_exporter": "python",
   "pygments_lexer": "ipython3",
   "version": "3.12.4"
  }
 },
 "nbformat": 4,
 "nbformat_minor": 5
}

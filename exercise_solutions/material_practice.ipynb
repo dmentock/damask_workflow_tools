{
 "cells": [
  {
   "cell_type": "code",
   "execution_count": 23,
   "metadata": {},
   "outputs": [],
   "source": [
    "import damask\n",
    "import numpy as np\n",
    "import yaml"
   ]
  },
  {
   "cell_type": "markdown",
   "metadata": {},
   "source": [
    "# Example: Generate single phase single material polycrystal material config"
   ]
  },
  {
   "cell_type": "code",
   "execution_count": 24,
   "metadata": {},
   "outputs": [],
   "source": [
    "with open('./examples/config/phase/mechanical/elastic/Hooke_al.yaml', 'r') as f:\n",
    "    al_elastic = yaml.safe_load(f)\n",
    "with open('./examples/config/phase/mechanical/plastic/phenopowerlaw_Al.yaml', 'r') as f:\n",
    "    al_plastic = yaml.safe_load(f)"
   ]
  },
  {
   "cell_type": "code",
   "execution_count": 25,
   "metadata": {},
   "outputs": [
    {
     "name": "stdout",
     "output_type": "stream",
     "text": [
      "\n"
     ]
    },
    {
     "data": {
      "text/plain": [
       "True"
      ]
     },
     "execution_count": 25,
     "metadata": {},
     "output_type": "execute_result"
    }
   ],
   "source": [
    "mat = damask.ConfigMaterial()\n",
    "\n",
    "homogenization = {\n",
    "    'SX': {\n",
    "        'N_constituents': 1,\n",
    "        'mechanical': {'type': 'pass'} # No volume fractions, so no homogenization needed\n",
    "    }\n",
    "}\n",
    "mat.update(homogenization=homogenization)\n",
    "\n",
    "phase_alu = {\n",
    "    'Aluminium':{\n",
    "        'lattice': 'cF', # FCC material\n",
    "        'mechanical': {\n",
    "            'output': ['F', 'P', 'F_e', 'L_p', 'O'],\n",
    "            'elastic': al_elastic,\n",
    "            'plastic': al_plastic\n",
    "        }\n",
    "    }\n",
    "}\n",
    "mat.update(phase=phase_alu)\n",
    "\n",
    "N_grains = 10\n",
    "rotations = damask.Rotation.from_random(N_grains)\n",
    "mat = mat.material_add(O=rotations,phase='Aluminium',homogenization='SX')\n",
    "mat.is_complete"
   ]
  },
  {
   "cell_type": "code",
   "execution_count": 26,
   "metadata": {},
   "outputs": [],
   "source": [
    "mat.save(f'./material_fullfield_{N_grains}grains_Al.yaml')"
   ]
  },
  {
   "cell_type": "markdown",
   "metadata": {},
   "source": [
    "# Example: Generate DP Steel with distinct grains"
   ]
  },
  {
   "cell_type": "code",
   "execution_count": 27,
   "metadata": {},
   "outputs": [],
   "source": [
    "with open('./examples/config/phase/mechanical/elastic/Hooke_Fe.yaml', 'r') as f:\n",
    "    martensite_elastic = yaml.safe_load(f)\n",
    "with open('./examples/config/phase/mechanical/plastic/phenopowerlaw_bcc-martensite.yaml', 'r') as f:\n",
    "    martensite_plastic = yaml.safe_load(f)\n",
    "\n",
    "with open('./examples/config/phase/mechanical/elastic/Hooke_Fe.yaml', 'r') as f:\n",
    "    ferrite_elastic = yaml.safe_load(f)\n",
    "with open('./examples/config/phase/mechanical/plastic/phenopowerlaw_DP-steel-ferrite.yaml', 'r') as f:\n",
    "    ferrite_plastic = yaml.safe_load(f)"
   ]
  },
  {
   "cell_type": "code",
   "execution_count": 28,
   "metadata": {},
   "outputs": [
    {
     "name": "stdout",
     "output_type": "stream",
     "text": [
      "\n"
     ]
    },
    {
     "data": {
      "text/plain": [
       "True"
      ]
     },
     "execution_count": 28,
     "metadata": {},
     "output_type": "execute_result"
    }
   ],
   "source": [
    "mat = damask.ConfigMaterial()\n",
    "\n",
    "homogenization = {\n",
    "    'SX': {\n",
    "        'N_constituents': 1,\n",
    "        'mechanical': {'type': 'pass'} # No volume fractions, so no homogenization needed\n",
    "    }\n",
    "}\n",
    "mat.update(homogenization=homogenization)\n",
    "\n",
    "phase_martesite = {\n",
    "    'Martensite':{\n",
    "        'lattice': 'cI', # BCC\n",
    "        'mechanical': {\n",
    "            'output': ['F', 'P', 'F_e', 'L_p', 'O'],\n",
    "            'elastic': martensite_elastic,\n",
    "            'plastic': martensite_plastic\n",
    "        }\n",
    "    }\n",
    "}\n",
    "\n",
    "phase_ferrite = {\n",
    "    'Ferrite':{\n",
    "        'lattice': 'cI', # BCC\n",
    "        'mechanical': {\n",
    "            'output': ['F', 'P', 'F_e', 'L_p', 'O'],\n",
    "            'elastic': ferrite_elastic,\n",
    "            'plastic': ferrite_plastic\n",
    "        }\n",
    "    }\n",
    "}\n",
    "\n",
    "mat.update(phase=phase_martesite|phase_ferrite) # merge dictionaries\n",
    "\n",
    "N_grains_ferrite = 6\n",
    "rotations = damask.Rotation.from_random(N_grains_ferrite)\n",
    "mat = mat.material_add(O=rotations,phase='Ferrite',homogenization='SX')\n",
    "\n",
    "N_grains_martensite = 4\n",
    "rotations = damask.Rotation.from_random(N_grains_martensite)\n",
    "mat = mat.material_add(O=rotations,phase='Martensite',homogenization='SX')\n",
    "\n",
    "mat.is_complete"
   ]
  },
  {
   "cell_type": "code",
   "execution_count": 29,
   "metadata": {},
   "outputs": [],
   "source": [
    "mat.save(f'material_fullfield_{N_grains_ferrite+N_grains_martensite}materials_{N_grains_ferrite}ferrite_{N_grains_martensite}martensite.yaml')"
   ]
  },
  {
   "cell_type": "markdown",
   "metadata": {},
   "source": [
    "# Example: Generate DP steel with volume fraction"
   ]
  },
  {
   "cell_type": "code",
   "execution_count": 30,
   "metadata": {},
   "outputs": [],
   "source": [
    "with open('./examples/config/phase/mechanical/elastic/Hooke_Fe.yaml', 'r') as f:\n",
    "    martensite_elastic = yaml.safe_load(f)\n",
    "with open('./examples/config/phase/mechanical/plastic/phenopowerlaw_bcc-martensite.yaml', 'r') as f:\n",
    "    martensite_plastic = yaml.safe_load(f)\n",
    "\n",
    "with open('./examples/config/phase/mechanical/elastic/Hooke_Fe.yaml', 'r') as f:\n",
    "    ferrite_elastic = yaml.safe_load(f)\n",
    "with open('./examples/config/phase/mechanical/plastic/phenopowerlaw_DP-steel-ferrite.yaml', 'r') as f:\n",
    "    ferrite_plastic = yaml.safe_load(f)"
   ]
  },
  {
   "cell_type": "code",
   "execution_count": 31,
   "metadata": {},
   "outputs": [
    {
     "name": "stdout",
     "output_type": "stream",
     "text": [
      "\n"
     ]
    },
    {
     "data": {
      "text/plain": [
       "True"
      ]
     },
     "execution_count": 31,
     "metadata": {},
     "output_type": "execute_result"
    }
   ],
   "source": [
    "N_materials = 10\n",
    "martensite_fraction = 0.4\n",
    "ferrite_fraction = 0.6\n",
    "\n",
    "mat = damask.ConfigMaterial()\n",
    "\n",
    "homogenization = {\n",
    "    'Taylor': {\n",
    "        'N_constituents': 2,\n",
    "        'mechanical': {'type': 'isostrain'} # Volume fractions present, so homogenization needed\n",
    "    }\n",
    "}\n",
    "mat.update(homogenization=homogenization)\n",
    "\n",
    "phase_martesite = {\n",
    "    'Martensite':{\n",
    "        'lattice': 'cI', # BCC\n",
    "        'mechanical': {\n",
    "            'output': ['F', 'P', 'F_e', 'L_p', 'O'],\n",
    "            'elastic': martensite_elastic,\n",
    "            'plastic': martensite_plastic\n",
    "        }\n",
    "    }\n",
    "}\n",
    "\n",
    "phase_ferrite = {\n",
    "    'Ferrite':{\n",
    "        'lattice': 'cI', # BCC\n",
    "        'mechanical': {\n",
    "            'output': ['F', 'P', 'F_e', 'L_p', 'O'],\n",
    "            'elastic': ferrite_elastic,\n",
    "            'plastic': ferrite_plastic\n",
    "        }\n",
    "    }\n",
    "}\n",
    "\n",
    "mat.update(phase=phase_martesite|phase_ferrite)\n",
    "\n",
    "mat = mat.material_add(phase = ['Martensite', 'Ferrite'],\n",
    "                       O = damask.Rotation.from_random((N_materials,2)),\n",
    "                       v = np.array([[martensite_fraction]+[ferrite_fraction]]),\n",
    "                       homogenization = 'Taylor')\n",
    "mat.is_complete"
   ]
  },
  {
   "cell_type": "code",
   "execution_count": 32,
   "metadata": {},
   "outputs": [],
   "source": [
    "mat.save(f'material_meanfield_{N_materials}materials_{ferrite_fraction}ferrite_{martensite_fraction}martensite.yaml')"
   ]
  },
  {
   "cell_type": "markdown",
   "metadata": {},
   "source": [
    "## Exercises:\n",
    "\n",
    "- Generate a single-phase IF-steel material with 50 distinct materials (grains), using the dislotwin constitutive law.\n",
    "  - Bonus: generate a corresponding gridfile and run the simulation\n",
    "- Generate a dual-phase steel with 20 distinct materials and a volume fraction of 50% each"
   ]
  },
  {
   "cell_type": "code",
   "execution_count": 33,
   "metadata": {},
   "outputs": [],
   "source": [
    "with open('./examples/config/phase/mechanical/elastic/Hooke_Fe.yaml', 'r') as f:\n",
    "    fe_elastic = yaml.safe_load(f)\n",
    "with open('./examples/config/phase/mechanical/plastic/dislotwin_IF-steel.yaml', 'r') as f:\n",
    "    fe_plastic = yaml.safe_load(f)\n",
    "\n",
    "mat = damask.ConfigMaterial()\n",
    "\n",
    "homogenization = {\n",
    "    'SX': {\n",
    "        'N_constituents': 1,\n",
    "        'mechanical': {'type': 'pass'} # No volume fractions, so no homogenization needed\n",
    "    }\n",
    "}\n",
    "mat.update(homogenization=homogenization)\n",
    "\n",
    "phase_alu = {\n",
    "    'IFSteel':{\n",
    "        'lattice': 'cI', # BCC material\n",
    "        'mechanical': {\n",
    "            'output': ['F', 'P', 'F_e', 'L_p', 'O'],\n",
    "            'elastic': fe_elastic,\n",
    "            'plastic': fe_plastic\n",
    "        }\n",
    "    }\n",
    "}\n",
    "mat.update(phase=phase_alu)\n",
    "\n",
    "N_grains = 50\n",
    "rotations = damask.Rotation.from_random(N_grains)\n",
    "mat = mat.material_add(O=rotations,phase='IFSteel',homogenization='SX')\n",
    "mat.save(f'material_fullfield_{N_grains}grains_IFSteel.yaml')\n"
   ]
  },
  {
   "cell_type": "code",
   "execution_count": 34,
   "metadata": {},
   "outputs": [],
   "source": [
    "with open('./examples/config/phase/mechanical/elastic/Hooke_Fe.yaml', 'r') as f:\n",
    "    martensite_elastic = yaml.safe_load(f)\n",
    "with open('./examples/config/phase/mechanical/plastic/phenopowerlaw_bcc-martensite.yaml', 'r') as f:\n",
    "    martensite_plastic = yaml.safe_load(f)\n",
    "\n",
    "with open('./examples/config/phase/mechanical/elastic/Hooke_Fe.yaml', 'r') as f:\n",
    "    ferrite_elastic = yaml.safe_load(f)\n",
    "with open('./examples/config/phase/mechanical/plastic/phenopowerlaw_DP-steel-ferrite.yaml', 'r') as f:\n",
    "    ferrite_plastic = yaml.safe_load(f)\n",
    "\n",
    "N_materials = 20\n",
    "martensite_fraction = 0.5\n",
    "ferrite_fraction = 0.5\n",
    "\n",
    "mat = damask.ConfigMaterial()\n",
    "\n",
    "homogenization = {\n",
    "    'Taylor': {\n",
    "        'N_constituents': 2,\n",
    "        'mechanical': {'type': 'isostrain'} # Volume fractions present, so homogenization needed\n",
    "    }\n",
    "}\n",
    "mat.update(homogenization=homogenization)\n",
    "\n",
    "phase_martesite = {\n",
    "    'Martensite':{\n",
    "        'lattice': 'cI', # BCC\n",
    "        'mechanical': {\n",
    "            'output': ['F', 'P', 'F_e', 'L_p', 'O'],\n",
    "            'elastic': martensite_elastic,\n",
    "            'plastic': martensite_plastic\n",
    "        }\n",
    "    }\n",
    "}\n",
    "\n",
    "phase_ferrite = {\n",
    "    'Ferrite':{\n",
    "        'lattice': 'cI', # BCC\n",
    "        'mechanical': {\n",
    "            'output': ['F', 'P', 'F_e', 'L_p', 'O'],\n",
    "            'elastic': ferrite_elastic,\n",
    "            'plastic': ferrite_plastic\n",
    "        }\n",
    "    }\n",
    "}\n",
    "\n",
    "mat.update(phase=phase_martesite|phase_ferrite)\n",
    "\n",
    "mat = mat.material_add(phase = ['Martensite', 'Ferrite'],\n",
    "                       O = damask.Rotation.from_random((N_materials,2)),\n",
    "                       v = np.array([[martensite_fraction]+[ferrite_fraction]]),\n",
    "                       homogenization = 'Taylor')\n",
    "mat.save(f'material_meanfield_{N_materials}materials_{ferrite_fraction}ferrite_{martensite_fraction}martensite.yaml')"
   ]
  }
 ],
 "metadata": {
  "kernelspec": {
   "display_name": "Python 3",
   "language": "python",
   "name": "python3"
  },
  "language_info": {
   "codemirror_mode": {
    "name": "ipython",
    "version": 3
   },
   "file_extension": ".py",
   "mimetype": "text/x-python",
   "name": "python",
   "nbconvert_exporter": "python",
   "pygments_lexer": "ipython3",
   "version": "3.10.12"
  }
 },
 "nbformat": 4,
 "nbformat_minor": 2
}

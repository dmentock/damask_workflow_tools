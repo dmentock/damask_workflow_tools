{
 "cells": [
  {
   "cell_type": "code",
   "execution_count": 5,
   "metadata": {},
   "outputs": [],
   "source": [
    "import damask\n",
    "import numpy as np"
   ]
  },
  {
   "cell_type": "markdown",
   "metadata": {},
   "source": [
    "# Example 1: Generating a 10-grain polycrystal with Voronoi Tesselation"
   ]
  },
  {
   "cell_type": "code",
   "execution_count": 6,
   "metadata": {},
   "outputs": [],
   "source": [
    "cells = [2,5,1]\n",
    "size = np.array(cells)*1e-5\n",
    "N_grains = cells[0] * cells[1] * cells[2]\n",
    "seeds = damask.seeds.from_random(size,N_grains,cells)\n",
    "grid = damask.GeomGrid.from_Voronoi_tessellation(cells,size,seeds)\n",
    "grid.save(f'{N_grains}grains_voronoi_{cells[0]}x{cells[1]}x{cells[2]}')"
   ]
  },
  {
   "cell_type": "markdown",
   "metadata": {},
   "source": [
    "## Exercises:\n",
    "\n",
    "- generate a 3x3x3 5-grain microstructure with Voronoi Tesselation\n",
    "- generate a 5x5x5 10-grain microstructure with Voronoi Tesselation"
   ]
  }
 ],
 "metadata": {
  "kernelspec": {
   "display_name": "Python 3",
   "language": "python",
   "name": "python3"
  },
  "language_info": {
   "codemirror_mode": {
    "name": "ipython",
    "version": 3
   },
   "file_extension": ".py",
   "mimetype": "text/x-python",
   "name": "python",
   "nbconvert_exporter": "python",
   "pygments_lexer": "ipython3",
   "version": "3.10.12"
  }
 },
 "nbformat": 4,
 "nbformat_minor": 2
}

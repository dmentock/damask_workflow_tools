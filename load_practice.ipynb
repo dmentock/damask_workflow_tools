{
 "cells": [
  {
   "cell_type": "code",
   "execution_count": null,
   "metadata": {},
   "outputs": [],
   "source": [
    "import damask\n",
    "import numpy as np"
   ]
  },
  {
   "cell_type": "markdown",
   "metadata": {},
   "source": [
    "# Example: Tension followed by compression"
   ]
  },
  {
   "cell_type": "code",
   "execution_count": null,
   "metadata": {},
   "outputs": [],
   "source": [
    "dot_F_1 = [[1.e-3, 0 , 0 ],\n",
    "         [   0 ,'x', 0 ],\n",
    "         [   0 , 0 ,'x']]\n",
    "\n",
    "P_1 = [['x', 'x', 'x'],\n",
    "     ['x',   0, 'x'],\n",
    "     ['x', 'x',   0]]\n",
    "\n",
    "dot_F_2 = [[-2.e-3, 0 , 0 ],\n",
    "         [   0 ,'x', 0 ],\n",
    "         [   0 , 0 ,'x']]\n",
    "\n",
    "P_2 = [['x', 'x', 'x'],\n",
    "     ['x',   0, 'x'],\n",
    "     ['x', 'x',   0]]"
   ]
  },
  {
   "cell_type": "code",
   "execution_count": null,
   "metadata": {},
   "outputs": [],
   "source": [
    "load_config = damask.LoadcaseGrid(\n",
    "    solver={'mechanical':'spectral_basic'}, # (1) solver specification,\n",
    "    loadstep=[\n",
    "        {\n",
    "            'boundary_conditions':{\n",
    "                'mechanical':{\n",
    "                    'dot_F': dot_F_1,\n",
    "                    'P': P_1\n",
    "                }\n",
    "            },\n",
    "            'discretization':{'t':10.,'N':40},\n",
    "            'f_out':4\n",
    "        },\n",
    "        {\n",
    "            'boundary_conditions':{\n",
    "                'mechanical':{\n",
    "                    'dot_F': dot_F_2,\n",
    "                    'P': P_2\n",
    "                }\n",
    "            },\n",
    "            'discretization':{'t':10.,'N':40},\n",
    "            'f_out':4\n",
    "        },\n",
    "    ]\n",
    ")\n",
    "load_config"
   ]
  }
 ],
 "metadata": {
  "kernelspec": {
   "display_name": "Python 3",
   "language": "python",
   "name": "python3"
  },
  "language_info": {
   "name": "python",
   "version": "3.10.12"
  }
 },
 "nbformat": 4,
 "nbformat_minor": 2
}

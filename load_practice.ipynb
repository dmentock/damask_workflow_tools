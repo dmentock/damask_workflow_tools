{
 "cells": [
  {
   "cell_type": "code",
   "execution_count": null,
   "metadata": {},
   "outputs": [],
   "source": [
    "import damask\n",
    "import numpy as np"
   ]
  },
  {
   "cell_type": "markdown",
   "metadata": {},
   "source": [
    "# Example: TensionX followed by TensionY"
   ]
  },
  {
   "cell_type": "code",
   "execution_count": 2,
   "metadata": {},
   "outputs": [],
   "source": [
    "dot_F_1 = [[1.e-3, 0 , 0 ],\n",
    "         [   0 ,'x', 0 ],\n",
    "         [   0 , 0 ,'x']]\n",
    "\n",
    "P_1 = [['x', 'x', 'x'],\n",
    "     ['x',   0, 'x'],\n",
    "     ['x', 'x',   0]]\n",
    "\n",
    "dot_F_2 = [['x', 0 , 0 ],\n",
    "         [   0 , 1.e-3, 0 ],\n",
    "         [   0 , 0 ,'x']]\n",
    "\n",
    "P_2 = [[0, 'x', 'x'],\n",
    "     ['x',   'x', 'x'],\n",
    "     ['x', 'x',   0]]"
   ]
  },
  {
   "cell_type": "code",
   "execution_count": 3,
   "metadata": {},
   "outputs": [],
   "source": [
    "load_config = damask.LoadcaseGrid(\n",
    "    solver={'mechanical':'spectral_basic'}, # (1) solver specification,\n",
    "    loadstep=[\n",
    "        {\n",
    "            'boundary_conditions':{\n",
    "                'mechanical':{\n",
    "                    'dot_F': dot_F_1,\n",
    "                    'P': P_1\n",
    "                }\n",
    "            },\n",
    "            'discretization':{'t':10.,'N':40},\n",
    "            'f_out':4\n",
    "        },\n",
    "        {\n",
    "            'boundary_conditions':{\n",
    "                'mechanical':{\n",
    "                    'dot_F': dot_F_2,\n",
    "                    'P': P_2\n",
    "                }\n",
    "            },\n",
    "            'discretization':{'t':10.,'N':40},\n",
    "            'f_out':4\n",
    "        },\n",
    "    ]\n",
    ")\n",
    "load_config.save('tensionX_tensionY.yaml')"
   ]
  },
  {
   "cell_type": "markdown",
   "metadata": {},
   "source": [
    "# Example: TensionX Loadcase with 45° rotation"
   ]
  },
  {
   "cell_type": "code",
   "execution_count": 4,
   "metadata": {},
   "outputs": [],
   "source": [
    "dot_F = [[1.e-3, 0 , 0 ],\n",
    "         [   0 ,'x', 0 ],\n",
    "         [   0 , 0 ,'x']]\n",
    "\n",
    "P = [['x', 'x', 'x'],\n",
    "     ['x',   0, 'x'],\n",
    "     ['x', 'x',   0]]"
   ]
  },
  {
   "cell_type": "code",
   "execution_count": 5,
   "metadata": {},
   "outputs": [],
   "source": [
    "load_config = damask.LoadcaseGrid(\n",
    "    solver={'mechanical':'spectral_basic'}, # (1) solver specification,\n",
    "    loadstep=[\n",
    "        {\n",
    "            'boundary_conditions':{\n",
    "                'mechanical':{\n",
    "                    'dot_F': dot_F,\n",
    "                    'P': P\n",
    "                }\n",
    "            },\n",
    "            'discretization':{'t':10.,'N':40},\n",
    "            'f_out':4,\n",
    "            'R': [0, 0, 1, 45] # rotate by 45 along the z-axis\n",
    "        }\n",
    "    ]\n",
    ")\n",
    "load_config.save('tensionX_rotation_z45.yaml')"
   ]
  },
  {
   "cell_type": "markdown",
   "metadata": {},
   "source": [
    "## Exercises:\n",
    "\n",
    "- Generate a Loadcase with 10s tension, 10s hold, 20s compression, all with 0.1s timesteps\n",
    "- Generate a 1e-2 tensionX Loadcase with 35° rotation along the y-axis  "
   ]
  }
 ],
 "metadata": {
  "kernelspec": {
   "display_name": "Python 3",
   "language": "python",
   "name": "python3"
  },
  "language_info": {
   "codemirror_mode": {
    "name": "ipython",
    "version": 3
   },
   "file_extension": ".py",
   "mimetype": "text/x-python",
   "name": "python",
   "nbconvert_exporter": "python",
   "pygments_lexer": "ipython3",
   "version": "3.10.12"
  }
 },
 "nbformat": 4,
 "nbformat_minor": 2
}

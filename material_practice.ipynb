{
 "cells": [
  {
   "cell_type": "code",
   "execution_count": 1,
   "metadata": {},
   "outputs": [
    {
     "name": "stderr",
     "output_type": "stream",
     "text": [
      "/home/snkrkr/.local/lib/python3.10/site-packages/pandas/core/computation/expressions.py:21: UserWarning: Pandas requires version '2.8.4' or newer of 'numexpr' (version '2.8.1' currently installed).\n",
      "  from pandas.core.computation.check import NUMEXPR_INSTALLED\n",
      "/home/snkrkr/.local/lib/python3.10/site-packages/pandas/core/arrays/masked.py:60: UserWarning: Pandas requires version '1.3.6' or newer of 'bottleneck' (version '1.3.2' currently installed).\n",
      "  from pandas.core import (\n",
      "/home/snkrkr/.local/lib/python3.10/site-packages/matplotlib/projections/__init__.py:63: UserWarning: Unable to import Axes3D. This may be due to multiple versions of Matplotlib being installed (e.g. as a system package and as a pip package). As a result, the 3D projection is not available.\n",
      "  warnings.warn(\"Unable to import Axes3D. This may be due to multiple versions of \"\n"
     ]
    }
   ],
   "source": [
    "import damask\n",
    "import numpy as np\n",
    "import yaml"
   ]
  },
  {
   "cell_type": "markdown",
   "metadata": {},
   "source": [
    "# Example: Generate single phase single material polycrystal material config"
   ]
  },
  {
   "cell_type": "code",
   "execution_count": 2,
   "metadata": {},
   "outputs": [],
   "source": [
    "with open('./examples/config/phase/mechanical/elastic/Hooke_al.yaml', 'r') as f:\n",
    "    al_elastic = yaml.safe_load(f)\n",
    "with open('./examples/config/phase/mechanical/plastic/phenopowerlaw_Al.yaml', 'r') as f:\n",
    "    al_plastic = yaml.safe_load(f)"
   ]
  },
  {
   "cell_type": "code",
   "execution_count": 5,
   "metadata": {},
   "outputs": [
    {
     "name": "stdout",
     "output_type": "stream",
     "text": [
      "\n"
     ]
    },
    {
     "data": {
      "text/plain": [
       "True"
      ]
     },
     "execution_count": 5,
     "metadata": {},
     "output_type": "execute_result"
    }
   ],
   "source": [
    "mat = damask.ConfigMaterial()\n",
    "\n",
    "homogenization = {\n",
    "    'SX': {\n",
    "        'N_constituents': 1,\n",
    "        'mechanical': {'type': 'pass'} # No volume fractions, so no homogenization needed\n",
    "    }\n",
    "}\n",
    "mat.update(homogenization=homogenization)\n",
    "\n",
    "phase_alu = {\n",
    "    'Aluminium':{\n",
    "        'lattice': 'cF', # FCC material\n",
    "        'mechanical': {\n",
    "            'output': ['F', 'P', 'F_e', 'L_p', 'O'],\n",
    "            'elastic': al_elastic,\n",
    "            'plastic': al_plastic\n",
    "        }\n",
    "    }\n",
    "}\n",
    "mat.update(phase=phase_alu)\n",
    "\n",
    "N_grains = 10\n",
    "rotations = damask.Rotation.from_random(N_grains)\n",
    "mat = mat.material_add(O=rotations,phase='Aluminium',homogenization='SX')\n",
    "mat.is_complete"
   ]
  },
  {
   "cell_type": "code",
   "execution_count": 6,
   "metadata": {},
   "outputs": [],
   "source": [
    "mat.save(f'./material_Al_{N_grains}.yaml')"
   ]
  },
  {
   "cell_type": "markdown",
   "metadata": {},
   "source": [
    "# Example: Generate DP Steel with distinct grains"
   ]
  },
  {
   "cell_type": "code",
   "execution_count": 34,
   "metadata": {},
   "outputs": [],
   "source": [
    "with open('./examples/config/phase/mechanical/elastic/Hooke_Fe.yaml', 'r') as f:\n",
    "    martensite_elastic = yaml.safe_load(f)\n",
    "with open('./examples/config/phase/mechanical/plastic/phenopowerlaw_bcc-martensite.yaml', 'r') as f:\n",
    "    martensite_plastic = yaml.safe_load(f)\n",
    "\n",
    "with open('./examples/config/phase/mechanical/elastic/Hooke_Fe.yaml', 'r') as f:\n",
    "    ferrite_elastic = yaml.safe_load(f)\n",
    "with open('./examples/config/phase/mechanical/plastic/phenopowerlaw_DP-steel-ferrite.yaml', 'r') as f:\n",
    "    ferrite_plastic = yaml.safe_load(f)"
   ]
  },
  {
   "cell_type": "code",
   "execution_count": 35,
   "metadata": {},
   "outputs": [
    {
     "name": "stdout",
     "output_type": "stream",
     "text": [
      "\n"
     ]
    },
    {
     "data": {
      "text/plain": [
       "True"
      ]
     },
     "execution_count": 35,
     "metadata": {},
     "output_type": "execute_result"
    }
   ],
   "source": [
    "mat = damask.ConfigMaterial()\n",
    "\n",
    "homogenization = {\n",
    "    'SX': {\n",
    "        'N_constituents': 1,\n",
    "        'mechanical': {'type': 'pass'} # No volume fractions, so no homogenization needed\n",
    "    }\n",
    "}\n",
    "mat.update(homogenization=homogenization)\n",
    "\n",
    "phase_martesite = {\n",
    "    'Martensite':{\n",
    "        'lattice': 'cI', # BCC\n",
    "        'mechanical': {\n",
    "            'output': ['F', 'P', 'F_e', 'L_p', 'O'],\n",
    "            'elastic': martensite_elastic,\n",
    "            'plastic': martensite_plastic\n",
    "        }\n",
    "    }\n",
    "}\n",
    "\n",
    "phase_ferrite = {\n",
    "    'Ferrite':{\n",
    "        'lattice': 'cI', # BCC\n",
    "        'mechanical': {\n",
    "            'output': ['F', 'P', 'F_e', 'L_p', 'O'],\n",
    "            'elastic': ferrite_elastic,\n",
    "            'plastic': ferrite_plastic\n",
    "        }\n",
    "    }\n",
    "}\n",
    "\n",
    "mat.update(phase=phase_martesite|phase_ferrite)\n",
    "\n",
    "N_grains_ferrite = 6\n",
    "rotations = damask.Rotation.from_random(N_grains)\n",
    "mat = mat.material_add(O=rotations,phase='Ferrite',homogenization='SX')\n",
    "\n",
    "N_grains_martensite = 4\n",
    "rotations = damask.Rotation.from_random(N_grains)\n",
    "mat = mat.material_add(O=rotations,phase='Martensite',homogenization='SX')\n",
    "\n",
    "mat.is_complete"
   ]
  },
  {
   "cell_type": "code",
   "execution_count": 36,
   "metadata": {},
   "outputs": [],
   "source": [
    "mat.save(f'material_fullfield_{N_grains_ferrite}ferrite_{N_grains_martensite}martensite.yaml')"
   ]
  },
  {
   "cell_type": "markdown",
   "metadata": {},
   "source": [
    "# Example: Generate DP steel with volume fraction"
   ]
  },
  {
   "cell_type": "code",
   "execution_count": 30,
   "metadata": {},
   "outputs": [],
   "source": [
    "with open('./examples/config/phase/mechanical/elastic/Hooke_Fe.yaml', 'r') as f:\n",
    "    martensite_elastic = yaml.safe_load(f)\n",
    "with open('./examples/config/phase/mechanical/plastic/phenopowerlaw_bcc-martensite.yaml', 'r') as f:\n",
    "    martensite_plastic = yaml.safe_load(f)\n",
    "\n",
    "with open('./examples/config/phase/mechanical/elastic/Hooke_Fe.yaml', 'r') as f:\n",
    "    ferrite_elastic = yaml.safe_load(f)\n",
    "with open('./examples/config/phase/mechanical/plastic/phenopowerlaw_DP-steel-ferrite.yaml', 'r') as f:\n",
    "    ferrite_plastic = yaml.safe_load(f)"
   ]
  },
  {
   "cell_type": "code",
   "execution_count": 32,
   "metadata": {},
   "outputs": [
    {
     "name": "stdout",
     "output_type": "stream",
     "text": [
      "\n"
     ]
    },
    {
     "data": {
      "text/plain": [
       "True"
      ]
     },
     "execution_count": 32,
     "metadata": {},
     "output_type": "execute_result"
    }
   ],
   "source": [
    "N_materials = 10\n",
    "martensite_fraction = 0.4\n",
    "ferrite_fraction = 0.6\n",
    "\n",
    "mat = damask.ConfigMaterial()\n",
    "\n",
    "homogenization = {\n",
    "    'Taylor': {\n",
    "        'N_constituents': 2,\n",
    "        'mechanical': {'type': 'isostrain'} # Volume fractions present, so homogenization needed\n",
    "    }\n",
    "}\n",
    "mat.update(homogenization=homogenization)\n",
    "\n",
    "phase_martesite = {\n",
    "    'Martensite':{\n",
    "        'lattice': 'cI', # BCC\n",
    "        'mechanical': {\n",
    "            'output': ['F', 'P', 'F_e', 'L_p', 'O'],\n",
    "            'elastic': martensite_elastic,\n",
    "            'plastic': martensite_plastic\n",
    "        }\n",
    "    }\n",
    "}\n",
    "\n",
    "phase_ferrite = {\n",
    "    'Ferrite':{\n",
    "        'lattice': 'cI', # BCC\n",
    "        'mechanical': {\n",
    "            'output': ['F', 'P', 'F_e', 'L_p', 'O'],\n",
    "            'elastic': ferrite_elastic,\n",
    "            'plastic': ferrite_plastic\n",
    "        }\n",
    "    }\n",
    "}\n",
    "\n",
    "mat.update(phase=phase_martesite|phase_ferrite)\n",
    "\n",
    "mat = mat.material_add(phase = ['Martensite', 'Ferrite'],\n",
    "                       O = damask.Rotation.from_random((N_materials,2)),\n",
    "                       v = np.array([[martensite_fraction]+[ferrite_fraction]]),\n",
    "                       homogenization = 'Taylor')\n",
    "mat.is_complete"
   ]
  },
  {
   "cell_type": "code",
   "execution_count": 33,
   "metadata": {},
   "outputs": [],
   "source": [
    "mat.save(f'material_volumefraction_{N_materials}_{ferrite_fraction}ferrite_{martensite_fraction}martensite.yaml')"
   ]
  },
  {
   "cell_type": "markdown",
   "metadata": {},
   "source": [
    "## Exercises:\n",
    "\n",
    "- Generate a single-phase IF-steel material with 50 distinct materials (grains), using the dislotwin constitutive law.\n",
    "  - Bonus: generate a corresponding gridfile and run the simulation\n",
    "- Generate a dual-phase steel with 20 distinct materials and a volume fraction of 50% each"
   ]
  }
 ],
 "metadata": {
  "kernelspec": {
   "display_name": "Python 3",
   "language": "python",
   "name": "python3"
  },
  "language_info": {
   "codemirror_mode": {
    "name": "ipython",
    "version": 3
   },
   "file_extension": ".py",
   "mimetype": "text/x-python",
   "name": "python",
   "nbconvert_exporter": "python",
   "pygments_lexer": "ipython3",
   "version": "3.10.12"
  }
 },
 "nbformat": 4,
 "nbformat_minor": 2
}

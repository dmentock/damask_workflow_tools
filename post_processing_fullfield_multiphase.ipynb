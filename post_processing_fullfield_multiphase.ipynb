{
 "cells": [
  {
   "cell_type": "code",
   "execution_count": 26,
   "metadata": {},
   "outputs": [],
   "source": [
    "import damask\n",
    "import numpy as np\n",
    "import pandas as pd\n",
    "import seaborn as sns\n",
    "import matplotlib.pyplot as plt\n",
    "from pathlib import Path\n",
    "import yaml"
   ]
  },
  {
   "cell_type": "code",
   "execution_count": 27,
   "metadata": {},
   "outputs": [],
   "source": [
    "resultfile_path = 'reference_output/tensionX_material_fullfield_10materials_6ferrite_4martensite_10grains_voronoi_5x5x5/simulation_output.hdf5'"
   ]
  },
  {
   "cell_type": "code",
   "execution_count": 28,
   "metadata": {},
   "outputs": [
    {
     "name": "stderr",
     "output_type": "stream",
     "text": [
      "/tmp/ipykernel_4011140/2177309841.py:29: YAMLLoadWarning: calling yaml.load() without Loader=... is deprecated, as the default Loader is unsafe. Please read https://msg.pyyaml.org/load for full details.\n",
      "  material_dict = yaml.load(f)\n"
     ]
    },
    {
     "data": {
      "text/plain": [
       "{'Ferrite': [0, 1, 2, 3, 4, 5], 'Martensite': [6, 7, 8, 9]}"
      ]
     },
     "execution_count": 28,
     "metadata": {},
     "output_type": "execute_result"
    }
   ],
   "source": [
    "result = damask.Result(resultfile_path)\n",
    "if isinstance(result.view(increments=0).get('F'), np.ndarray):\n",
    "    raise RuntimeError('The selected resultfile comes from a single phase simulation, please use post_processing_fullfield.ipynb for this file instead')\n",
    "\n",
    "try:\n",
    "    result.add_stress_Cauchy()\n",
    "except ValueError:\n",
    "    pass\n",
    "try:\n",
    "    result.add_equivalent_Mises('sigma')\n",
    "except ValueError:\n",
    "    pass\n",
    "try:\n",
    "    result.add_stress_second_Piola_Kirchhoff()\n",
    "except ValueError:\n",
    "    pass\n",
    "\n",
    "try:\n",
    "    result.add_strain()\n",
    "except ValueError:\n",
    "    pass\n",
    "\n",
    "postprossecing_dir = Path(resultfile_path).stem\n",
    "vti_path = list(Path(resultfile_path).parent.glob(\"*.vti\"))[0]\n",
    "material_path = list(Path(resultfile_path).parent.glob(\"material*\"))[0]\n",
    "grid = damask.GeomGrid.load(vti_path)\n",
    "\n",
    "with open(material_path, 'r') as f:\n",
    "    material_dict = yaml.load(f)\n",
    "material_grid_mapping = {}\n",
    "for id, material in enumerate(material_dict['material']):\n",
    "    phase = material['constituents'][0]['phase']\n",
    "    if not phase in material_grid_mapping:\n",
    "        material_grid_mapping[phase] = []\n",
    "    material_grid_mapping[phase].append(id)\n",
    "material_grid_mapping"
   ]
  },
  {
   "cell_type": "code",
   "execution_count": 29,
   "metadata": {},
   "outputs": [
    {
     "data": {
      "text/plain": [
       "dict"
      ]
     },
     "execution_count": 29,
     "metadata": {},
     "output_type": "execute_result"
    }
   ],
   "source": [
    "type(result.view(increments=0).get('F'))"
   ]
  },
  {
   "cell_type": "code",
   "execution_count": 30,
   "metadata": {},
   "outputs": [
    {
     "data": {
      "text/plain": [
       "\u001b[2mCreated by DAMASK_grid v3.0.0\n",
       "        on 2024-10-25 11:58:13+0200\n",
       " executing \"DAMASK_grid -g 10grains_voronoi_5x5x5.vti -l tensionX.yaml -m material_fullfield_10materials_6ferrite_4martensite.yaml -w reference_output/tensionX_material_fullfield_10materials_6ferrite_4martensite_10grains_voronoi_5x5x5 -j simulation_output\"\u001b[0m\n",
       "\n",
       "increment_0 (0.0 s)\n",
       "  phase\n",
       "    Ferrite\n",
       "      mechanical\n",
       "        F / 1: deformation gradient\n",
       "        F_e / 1: elastic deformation gradient\n",
       "        L_p / 1/s: plastic velocity gradient\n",
       "        O / 1: crystal orientation as quaternion q_0 (q_1 q_2 q_3)\n",
       "        P / Pa: first Piola-Kirchhoff stress\n",
       "        S / Pa: second Piola-Kirchhoff stress calculated from P (first Piola-Kirchhoff stress) and F (deformation gradient)\n",
       "        epsilon_V^0.0(F) / 1: Seth-Hill strain tensor of order 0.0 based on left stretch tensor of F (deformation gradient)\n",
       "        gamma_sl / 1: plastic shear\n",
       "        sigma / Pa: Cauchy stress calculated from P (first Piola-Kirchhoff stress) and F (deformation gradient)\n",
       "        sigma_vM / Pa: Mises equivalent stress of sigma (Cauchy stress calculated from P (first Piola-Kirchhoff stress) and F (deformation gradient))\n",
       "        xi_sl / Pa: resistance against plastic slip\n",
       "    Martensite\n",
       "      mechanical\n",
       "        F / 1: deformation gradient\n",
       "        F_e / 1: elastic deformation gradient\n",
       "        L_p / 1/s: plastic velocity gradient\n",
       "        O / 1: crystal orientation as quaternion q_0 (q_1 q_2 q_3)\n",
       "        P / Pa: first Piola-Kirchhoff stress\n",
       "        S / Pa: second Piola-Kirchhoff stress calculated from P (first Piola-Kirchhoff stress) and F (deformation gradient)\n",
       "        epsilon_V^0.0(F) / 1: Seth-Hill strain tensor of order 0.0 based on left stretch tensor of F (deformation gradient)\n",
       "        gamma_sl / 1: plastic shear\n",
       "        sigma / Pa: Cauchy stress calculated from P (first Piola-Kirchhoff stress) and F (deformation gradient)\n",
       "        sigma_vM / Pa: Mises equivalent stress of sigma (Cauchy stress calculated from P (first Piola-Kirchhoff stress) and F (deformation gradient))\n",
       "        xi_sl / Pa: resistance against plastic slip\n",
       "  homogenization\n",
       "    SX\n",
       "      mechanical\n",
       "\n",
       "increment_4\n",
       "  ...\n",
       "\n",
       "increment_8\n",
       "  ...\n",
       "\n",
       "increment_12\n",
       "  ...\n",
       "\n",
       "increment_16\n",
       "  ...\n",
       "\n",
       "increment_20\n",
       "  ...\n",
       "\n",
       "increment_24\n",
       "  ...\n",
       "\n",
       "increment_28\n",
       "  ...\n",
       "\n",
       "increment_32\n",
       "  ...\n",
       "\n",
       "increment_36\n",
       "  ...\n",
       "\n",
       "increment_40\n",
       "  ...\n",
       "\n",
       "increment_44\n",
       "  ...\n",
       "\n",
       "increment_48\n",
       "  ...\n",
       "\n",
       "increment_52\n",
       "  ...\n",
       "\n",
       "increment_56\n",
       "  ...\n",
       "\n",
       "increment_60\n",
       "  ...\n",
       "\n",
       "increment_64\n",
       "  ...\n",
       "\n",
       "increment_68\n",
       "  ...\n",
       "\n",
       "increment_72\n",
       "  ...\n",
       "\n",
       "increment_76\n",
       "  ...\n",
       "\n",
       "increment_80\n",
       "  ...\n",
       "\n",
       "increment_84\n",
       "  ...\n",
       "\n",
       "increment_88\n",
       "  ...\n",
       "\n",
       "increment_92\n",
       "  ...\n",
       "\n",
       "increment_96\n",
       "  ...\n",
       "\n",
       "increment_100 (10.0 s)\n",
       "  phase\n",
       "    Ferrite\n",
       "      mechanical\n",
       "        F / 1: deformation gradient\n",
       "        F_e / 1: elastic deformation gradient\n",
       "        L_p / 1/s: plastic velocity gradient\n",
       "        O / 1: crystal orientation as quaternion q_0 (q_1 q_2 q_3)\n",
       "        P / Pa: first Piola-Kirchhoff stress\n",
       "        S / Pa: second Piola-Kirchhoff stress calculated from P (first Piola-Kirchhoff stress) and F (deformation gradient)\n",
       "        epsilon_V^0.0(F) / 1: Seth-Hill strain tensor of order 0.0 based on left stretch tensor of F (deformation gradient)\n",
       "        gamma_sl / 1: plastic shear\n",
       "        sigma / Pa: Cauchy stress calculated from P (first Piola-Kirchhoff stress) and F (deformation gradient)\n",
       "        sigma_vM / Pa: Mises equivalent stress of sigma (Cauchy stress calculated from P (first Piola-Kirchhoff stress) and F (deformation gradient))\n",
       "        xi_sl / Pa: resistance against plastic slip\n",
       "    Martensite\n",
       "      mechanical\n",
       "        F / 1: deformation gradient\n",
       "        F_e / 1: elastic deformation gradient\n",
       "        L_p / 1/s: plastic velocity gradient\n",
       "        O / 1: crystal orientation as quaternion q_0 (q_1 q_2 q_3)\n",
       "        P / Pa: first Piola-Kirchhoff stress\n",
       "        S / Pa: second Piola-Kirchhoff stress calculated from P (first Piola-Kirchhoff stress) and F (deformation gradient)\n",
       "        epsilon_V^0.0(F) / 1: Seth-Hill strain tensor of order 0.0 based on left stretch tensor of F (deformation gradient)\n",
       "        gamma_sl / 1: plastic shear\n",
       "        sigma / Pa: Cauchy stress calculated from P (first Piola-Kirchhoff stress) and F (deformation gradient)\n",
       "        sigma_vM / Pa: Mises equivalent stress of sigma (Cauchy stress calculated from P (first Piola-Kirchhoff stress) and F (deformation gradient))\n",
       "        xi_sl / Pa: resistance against plastic slip\n",
       "  homogenization\n",
       "    SX\n",
       "      mechanical"
      ]
     },
     "execution_count": 30,
     "metadata": {},
     "output_type": "execute_result"
    }
   ],
   "source": [
    "result"
   ]
  },
  {
   "cell_type": "code",
   "execution_count": 31,
   "metadata": {},
   "outputs": [
    {
     "name": "stderr",
     "output_type": "stream",
     "text": [
      "/tmp/ipykernel_4011140/116318971.py:15: FutureWarning: The behavior of DataFrame concatenation with empty or all-NA entries is deprecated. In a future version, this will no longer exclude empty or all-NA columns when determining the result dtypes. To retain the old behavior, exclude the relevant entries before the concat operation.\n",
      "  data[phase] = pd.concat((data[phase],grain_data),ignore_index=True)\n",
      "/tmp/ipykernel_4011140/116318971.py:15: FutureWarning: The behavior of DataFrame concatenation with empty or all-NA entries is deprecated. In a future version, this will no longer exclude empty or all-NA columns when determining the result dtypes. To retain the old behavior, exclude the relevant entries before the concat operation.\n",
      "  data[phase] = pd.concat((data[phase],grain_data),ignore_index=True)\n"
     ]
    },
    {
     "data": {
      "image/png": "[encoded data removed]",
      "text/plain": [
       "<Figure size 640x480 with 1 Axes>"
      ]
     },
     "metadata": {},
     "output_type": "display_data"
    }
   ],
   "source": [
    "def plot_stress_strain_multiphase(grid, result):\n",
    "    data = {}\n",
    "    for phase in result.view(increments=0).get(['epsilon_V^0.0(F)','P']).keys():\n",
    "        data[phase] = pd.DataFrame(columns=['F_11', 'P_11'])\n",
    "    for phases in result.get(['epsilon_V^0.0(F)','P']).values():\n",
    "        for phase, inc in phases.items():\n",
    "            P = inc['P']\n",
    "            epsilon = inc['epsilon_V^0.0(F)']\n",
    "            for g in material_grid_mapping[phase]:\n",
    "                material_phase = ([i for i in grid.material.flatten(order='F') if i in material_grid_mapping[phase]])\n",
    "                points = np.array(material_phase) == g\n",
    "                P_11 = P[points,0,0].flatten()\n",
    "                epsilon_11 = np.broadcast_to(np.average(epsilon[:,0,0]),P_11.shape)\n",
    "                grain_data = pd.DataFrame({'epsilon_11':epsilon_11,'P_11':P_11})\n",
    "                data[phase] = pd.concat((data[phase],grain_data),ignore_index=True)\n",
    "\n",
    "    for phase in result.view(increments=0).get(['epsilon_V^0.0(F)','P']).keys():\n",
    "        average_data = data[phase].groupby('epsilon_11', as_index=False).mean()\n",
    "        sns.lineplot(x='epsilon_11', y='P_11', data=average_data, marker='o', label=phase)\n",
    "    plt.xlabel(\"Average epsilon_11\")\n",
    "    plt.ylabel(\"Average P_11\")\n",
    "    plt.title(\"Average Stress-Strain Response for each phase\")\n",
    "    plt.show()\n",
    "\n",
    "\n",
    "plot_stress_strain_multiphase(grid, result)\n"
   ]
  }
 ],
 "metadata": {
  "kernelspec": {
   "display_name": "Python 3",
   "language": "python",
   "name": "python3"
  },
  "language_info": {
   "codemirror_mode": {
    "name": "ipython",
    "version": 3
   },
   "file_extension": ".py",
   "mimetype": "text/x-python",
   "name": "python",
   "nbconvert_exporter": "python",
   "pygments_lexer": "ipython3",
   "version": "3.10.12"
  }
 },
 "nbformat": 4,
 "nbformat_minor": 2
}

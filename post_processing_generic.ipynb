{
 "cells": [
  {
   "cell_type": "code",
   "execution_count": 1,
   "metadata": {},
   "outputs": [],
   "source": [
    "import damask\n",
    "import numpy as np\n",
    "import pandas as pd\n",
    "import seaborn as sns\n",
    "import matplotlib.pyplot as plt\n",
    "from pathlib import Path"
   ]
  },
  {
   "cell_type": "code",
   "execution_count": 3,
   "metadata": {},
   "outputs": [
    {
     "name": "stdout",
     "output_type": "stream",
     "text": [
      "Help on package damask:\n",
      "\n",
      "NAME\n",
      "    damask - Tools for managing DAMASK simulations.\n",
      "\n",
      "PACKAGE CONTENTS\n",
      "    _colormap\n",
      "    _config\n",
      "    _configmaterial\n",
      "    _crystal\n",
      "    _geomgrid\n",
      "    _grid\n",
      "    _loadcasegrid\n",
      "    _orientation\n",
      "    _result\n",
      "    _rotation\n",
      "    _table\n",
      "    _typehints\n",
      "    _vtk\n",
      "    _yaml\n",
      "    grid_filters\n",
      "    mechanics\n",
      "    seeds\n",
      "    solver (package)\n",
      "    tensor\n",
      "    util\n",
      "\n",
      "DATA\n",
      "    name = 'damask'\n",
      "    version = '3.0.1'\n",
      "\n",
      "VERSION\n",
      "    3.0.1\n",
      "\n",
      "FILE\n",
      "    /home/snkr/.local/lib/python3.10/site-packages/damask/__init__.py\n",
      "\n",
      "\n"
     ]
    }
   ],
   "source": [
    "help(damask)"
   ]
  },
  {
   "cell_type": "code",
   "execution_count": 4,
   "metadata": {},
   "outputs": [],
   "source": [
    "resultfile_path = 'reference/10grains_voronoi_2x5x1_tensionX_rotation_z45_material_fullfield_6ferrite_4martensite.hdf5'"
   ]
  },
  {
   "cell_type": "code",
   "execution_count": 11,
   "metadata": {},
   "outputs": [
    {
     "data": {
      "text/plain": [
       "cells:  2 × 5 × 1\n",
       "size:   2e-05 × 5e-05 × 1e-05 m³\n",
       "origin: 0.0   0.0   0.0 m\n",
       "# materials: 10"
      ]
     },
     "execution_count": 11,
     "metadata": {},
     "output_type": "execute_result"
    }
   ],
   "source": [
    "result = damask.Result(resultfile_path)\n",
    "# result.add_stress_Cauchy()\n",
    "\n",
    "postprossecing_dir = Path(resultfile_path).stem\n",
    "# result.export_simulation_setup(target_dir=Path(resultfile_path).stem)\n",
    "vti_path = list(Path(postprossecing_dir).glob(\"*.vti\"))[0]\n",
    "grid = damask.GeomGrid.load(vti_path)\n",
    "grid"
   ]
  },
  {
   "cell_type": "markdown",
   "metadata": {},
   "source": [
    "# Example: Stress-strain curve for tensionX"
   ]
  },
  {
   "cell_type": "code",
   "execution_count": 12,
   "metadata": {},
   "outputs": [
    {
     "data": {
      "image/png": "[encoded data removed]",
      "text/plain": [
       "<Figure size 432x288 with 1 Axes>"
      ]
     },
     "metadata": {
      "needs_background": "light"
     },
     "output_type": "display_data"
    }
   ],
   "source": [
    "grains = [0,1,2]\n",
    "# loop over all increments and store P(1,1) per grain and avg(F(1,1))\n",
    "data = {g:pd.DataFrame() for g in grains}\n",
    "for inc in result.get(['F','P']).values():\n",
    "    P = inc['P']\n",
    "    F = inc['F']\n",
    "    for g in grains:\n",
    "        points = grid.material.flatten(order='F')==g\n",
    "        P_11 = P[points,0,0].flatten()\n",
    "        F_11 = np.broadcast_to(np.average(F[:,0,0]),P_11.shape)\n",
    "        x = pd.DataFrame({'F_11':F_11,'P_11':P_11})\n",
    "        data[g] = pd.concat((data[g],x),ignore_index=True)\n",
    "for g in grains:\n",
    "   plot = sns.lineplot(y='P_11',x='F_11',data=data[g])\n",
    "\n",
    "fig = plot.get_figure()"
   ]
  },
  {
   "cell_type": "markdown",
   "metadata": {},
   "source": [
    "# Example: Stress-Strain Density plot for each grain "
   ]
  },
  {
   "cell_type": "code",
   "execution_count": 17,
   "metadata": {},
   "outputs": [
    {
     "ename": "TypeError",
     "evalue": "unhashable type: 'slice'",
     "output_type": "error",
     "traceback": [
      "\u001b[0;31m---------------------------------------------------------------------------\u001b[0m",
      "\u001b[0;31mTypeError\u001b[0m                                 Traceback (most recent call last)",
      "Cell \u001b[0;32mIn[17], line 5\u001b[0m\n\u001b[1;32m      3\u001b[0m last_inc \u001b[38;5;241m=\u001b[39m result\u001b[38;5;241m.\u001b[39mview(homogenizations\u001b[38;5;241m=\u001b[39m\u001b[38;5;28;01mFalse\u001b[39;00m)\n\u001b[1;32m      4\u001b[0m last_inc\n\u001b[0;32m----> 5\u001b[0m df \u001b[38;5;241m=\u001b[39m pd\u001b[38;5;241m.\u001b[39mDataFrame({\u001b[38;5;124m'\u001b[39m\u001b[38;5;124mF_11\u001b[39m\u001b[38;5;124m'\u001b[39m:\u001b[43mlast_inc\u001b[49m\u001b[38;5;241;43m.\u001b[39;49m\u001b[43mget\u001b[49m\u001b[43m(\u001b[49m\u001b[38;5;124;43m'\u001b[39;49m\u001b[38;5;124;43mF\u001b[39;49m\u001b[38;5;124;43m'\u001b[39;49m\u001b[43m)\u001b[49m\u001b[43m[\u001b[49m\u001b[43m:\u001b[49m\u001b[43m,\u001b[49m\u001b[38;5;241;43m0\u001b[39;49m\u001b[43m,\u001b[49m\u001b[38;5;241;43m0\u001b[39;49m\u001b[43m]\u001b[49m,\n\u001b[1;32m      6\u001b[0m                    \u001b[38;5;124m'\u001b[39m\u001b[38;5;124mP_11\u001b[39m\u001b[38;5;124m'\u001b[39m:last_inc\u001b[38;5;241m.\u001b[39mget(\u001b[38;5;124m'\u001b[39m\u001b[38;5;124mP\u001b[39m\u001b[38;5;124m'\u001b[39m)[:,\u001b[38;5;241m0\u001b[39m,\u001b[38;5;241m0\u001b[39m]})\n\u001b[1;32m      7\u001b[0m \u001b[38;5;66;03m# _ = df.plot.hexbin(x='F_11',y='P_11',gridsize=20,\u001b[39;00m\n\u001b[1;32m      8\u001b[0m \u001b[38;5;66;03m#                    cmap=damask.Colormap.from_predefined('strain'))\u001b[39;00m\n",
      "\u001b[0;31mTypeError\u001b[0m: unhashable type: 'slice'"
     ]
    }
   ],
   "source": [
    "result = damask.Result(resultfile_path)\n",
    "last_inc = result.view(increments=-1)\n",
    "last_inc = result.view(homogenizations=False)\n",
    "last_inc\n",
    "df = pd.DataFrame({'F_11':last_inc.get('F')[:,0,0],\n",
    "                   'P_11':last_inc.get('P')[:,0,0]})\n",
    "# _ = df.plot.hexbin(x='F_11',y='P_11',gridsize=20,\n",
    "#                    cmap=damask.Colormap.from_predefined('strain'))"
   ]
  },
  {
   "cell_type": "markdown",
   "metadata": {},
   "source": [
    "# Example: r-value calculation"
   ]
  },
  {
   "cell_type": "code",
   "execution_count": 1,
   "metadata": {},
   "outputs": [],
   "source": [
    "result = damask.Result(resultfile_name)\n",
    "result.add_strain('F_p','U')\n",
    "result.add_equivalent_Mises('epsilon_U^0.0(F_p)')\n",
    "epsilon_avg = np.array([np.average(eps,0) for eps in result.get('epsilon_U^0.0(F_p)').values()])\n",
    "r = epsilon_avg[:,1,1]/epsilon_avg[:,2,2]\n",
    "s = np.array([np.average(strain) for strain in result.get('epsilon_U^0.0(F_p)_vM').values()])\n",
    "plt.plot(s[10:],r[10:])\n",
    "plt.ylabel('r-value')\n",
    "plt.xlabel('plastic vM strain')\n",
    "plt.axis([0, 0.2, 0, 1])\n",
    "plt.show()"
   ]
  }
 ],
 "metadata": {
  "kernelspec": {
   "display_name": "Python 3",
   "language": "python",
   "name": "python3"
  },
  "language_info": {
   "codemirror_mode": {
    "name": "ipython",
    "version": 3
   },
   "file_extension": ".py",
   "mimetype": "text/x-python",
   "name": "python",
   "nbconvert_exporter": "python",
   "pygments_lexer": "ipython3",
   "version": "3.10.12"
  }
 },
 "nbformat": 4,
 "nbformat_minor": 2
}

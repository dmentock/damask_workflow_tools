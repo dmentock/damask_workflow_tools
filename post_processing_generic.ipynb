{
 "cells": [
  {
   "cell_type": "code",
   "execution_count": 3,
   "metadata": {},
   "outputs": [],
   "source": [
    "import damask\n",
    "import numpy as np\n",
    "import pandas as pd\n",
    "import seaborn as sns\n",
    "import matplotlib.pyplot as plt"
   ]
  },
  {
   "cell_type": "code",
   "execution_count": null,
   "metadata": {},
   "outputs": [],
   "source": [
    "resultfile_name = 'Polycrystal_4_4x4x4_load_material.hdf5'"
   ]
  },
  {
   "cell_type": "markdown",
   "metadata": {},
   "source": [
    "# Example: Stress-strain curve for tensionX"
   ]
  },
  {
   "cell_type": "code",
   "execution_count": null,
   "metadata": {},
   "outputs": [],
   "source": [
    "result = damask.Result(resultfile_name)\n",
    "result.add_stress_Cauchy()\n",
    "\n",
    "grid   = damask.GeomGrid.load(fn_vti) # get back my grid\n",
    "# loop over all increments and store P(1,1) per grain and avg(F(1,1))\n",
    "data = {g:pd.DataFrame() for g in grains}\n",
    "for inc in result.get(['F','P']).values():\n",
    "    P = inc['P']\n",
    "    F = inc['F']\n",
    "    for g in grains:\n",
    "        points = grid.material.flatten(order='F')==g\n",
    "        P_11 = P[points,0,0].flatten()\n",
    "        F_11 = np.broadcast_to(np.average(F[:,0,0]),P_11.shape)\n",
    "        x = pd.DataFrame({'F_11':F_11,'P_11':P_11})\n",
    "        data[g] = pd.concat((data[g],x),ignore_index=True)"
   ]
  },
  {
   "cell_type": "markdown",
   "metadata": {},
   "source": [
    "# Example: Stress-Strain Density plot for each grain "
   ]
  },
  {
   "cell_type": "code",
   "execution_count": null,
   "metadata": {},
   "outputs": [],
   "source": [
    "result = damask.Result(resultfile_name)\n",
    "last_inc = result.view(increments=-1)\n",
    "last_inc = result.view(homogenizations=False)\n",
    "df = pd.DataFrame({'F_11':result.get('F')[:,0,0],\n",
    "                   'P_11':result.get('P')[:,0,0]})\n",
    "_ = df.plot.hexbin(x='F_11',y='P_11',gridsize=20,\n",
    "                   cmap=damask.Colormap.from_predefined('strain'))"
   ]
  },
  {
   "cell_type": "markdown",
   "metadata": {},
   "source": [
    "# Example: r-value calculation"
   ]
  },
  {
   "cell_type": "code",
   "execution_count": 1,
   "metadata": {},
   "outputs": [],
   "source": [
    "result = damask.Result(resultfile_name)\n",
    "result.add_strain('F_p','U')\n",
    "result.add_equivalent_Mises('epsilon_U^0.0(F_p)')\n",
    "epsilon_avg = np.array([np.average(eps,0) for eps in result.get('epsilon_U^0.0(F_p)').values()])\n",
    "r = epsilon_avg[:,1,1]/epsilon_avg[:,2,2]\n",
    "s = np.array([np.average(strain) for strain in result.get('epsilon_U^0.0(F_p)_vM').values()])\n",
    "plt.plot(s[10:],r[10:])\n",
    "plt.ylabel('r-value')\n",
    "plt.xlabel('plastic vM strain')\n",
    "plt.axis([0, 0.2, 0, 1])\n",
    "plt.show()"
   ]
  }
 ],
 "metadata": {
  "kernelspec": {
   "display_name": "Python 3",
   "language": "python",
   "name": "python3"
  },
  "language_info": {
   "codemirror_mode": {
    "name": "ipython",
    "version": 3
   },
   "file_extension": ".py",
   "mimetype": "text/x-python",
   "name": "python",
   "nbconvert_exporter": "python",
   "pygments_lexer": "ipython3",
   "version": "3.10.12"
  }
 },
 "nbformat": 4,
 "nbformat_minor": 2
}

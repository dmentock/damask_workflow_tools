{
 "cells": [
  {
   "cell_type": "code",
   "execution_count": 1,
   "metadata": {},
   "outputs": [
    {
     "name": "stderr",
     "output_type": "stream",
     "text": [
      "/home/snkrkr/.local/lib/python3.10/site-packages/pandas/core/computation/expressions.py:21: UserWarning: Pandas requires version '2.8.4' or newer of 'numexpr' (version '2.8.1' currently installed).\n",
      "  from pandas.core.computation.check import NUMEXPR_INSTALLED\n",
      "/home/snkrkr/.local/lib/python3.10/site-packages/pandas/core/arrays/masked.py:60: UserWarning: Pandas requires version '1.3.6' or newer of 'bottleneck' (version '1.3.2' currently installed).\n",
      "  from pandas.core import (\n",
      "/home/snkrkr/.local/lib/python3.10/site-packages/matplotlib/projections/__init__.py:63: UserWarning: Unable to import Axes3D. This may be due to multiple versions of Matplotlib being installed (e.g. as a system package and as a pip package). As a result, the 3D projection is not available.\n",
      "  warnings.warn(\"Unable to import Axes3D. This may be due to multiple versions of \"\n"
     ]
    }
   ],
   "source": [
    "import damask\n",
    "from pathlib import Path"
   ]
  },
  {
   "cell_type": "code",
   "execution_count": 2,
   "metadata": {},
   "outputs": [],
   "source": [
    "def run_simulation(fn_vti, fn_load, fn_material):\n",
    "    fn_vti = Path(fn_vti)\n",
    "    fn_load = Path(fn_load)\n",
    "    fn_material = Path(fn_material)\n",
    "    output_name = f'{fn_load.stem}_{fn_material.stem}_{fn_vti.stem}.txt'\n",
    "    output_dir = Path('reference_output') / Path(output_name).stem\n",
    "    output_dir.mkdir(parents=True, exist_ok=True)\n",
    "    for fn in [fn_vti, fn_load, fn_material]:\n",
    "        target_path = output_dir / fn.name\n",
    "        target_path.write_text(fn.read_text())\n",
    "    run_log = damask.util.run(\n",
    "        f'DAMASK_grid -g {fn_vti.name} -l {fn_load.name} -m {fn_material.name} -w {output_dir} -j simulation_output'\n",
    "    )\n",
    "    with open(output_dir / f'log_{str(output_name)}', 'w') as f:\n",
    "        f.write(''.join(run_log))\n",
    "    print(f\"Run successful for: {fn_load}, {fn_material}, {fn_vti}\")\n"
   ]
  },
  {
   "cell_type": "markdown",
   "metadata": {},
   "source": [
    "# Run simple 10 Grain 10 Materialpoint single phase Al simulation"
   ]
  },
  {
   "cell_type": "code",
   "execution_count": 3,
   "metadata": {},
   "outputs": [
    {
     "name": "stdout",
     "output_type": "stream",
     "text": [
      "running 'DAMASK_grid -g 10grains_voronoi_2x5x1.vti -l tensionX.yaml -m material_fullfield_10grains_Al.yaml -w reference_output/tensionX_material_fullfield_10grains_Al_10grains_voronoi_2x5x1 -j simulation_output' in './'\n",
      "Run successful for: reference_input/tensionX.yaml, reference_input/material_fullfield_10grains_Al.yaml, reference_input/10grains_voronoi_2x5x1.vti\n"
     ]
    }
   ],
   "source": [
    "run_simulation('reference_input/10grains_voronoi_2x5x1.vti',\n",
    "               'reference_input/tensionX.yaml',\n",
    "               'reference_input/material_fullfield_10grains_Al.yaml')"
   ]
  },
  {
   "cell_type": "markdown",
   "metadata": {},
   "source": [
    "# Run 10 Grain 125 Materialpoint single phase Al simulation"
   ]
  },
  {
   "cell_type": "code",
   "execution_count": 4,
   "metadata": {},
   "outputs": [
    {
     "name": "stdout",
     "output_type": "stream",
     "text": [
      "running 'DAMASK_grid -g 10grains_voronoi_5x5x5.vti -l tensionX.yaml -m material_fullfield_10grains_Al.yaml -w reference_output/tensionX_material_fullfield_10grains_Al_10grains_voronoi_5x5x5 -j simulation_output' in './'\n",
      "Run successful for: reference_input/tensionX.yaml, reference_input/material_fullfield_10grains_Al.yaml, reference_input/10grains_voronoi_5x5x5.vti\n"
     ]
    }
   ],
   "source": [
    "run_simulation('reference_input/10grains_voronoi_5x5x5.vti',\n",
    "               'reference_input/tensionX.yaml',\n",
    "               'reference_input/material_fullfield_10grains_Al.yaml')"
   ]
  },
  {
   "cell_type": "markdown",
   "metadata": {},
   "source": [
    "# use 45° z-axis rotation"
   ]
  },
  {
   "cell_type": "code",
   "execution_count": 5,
   "metadata": {},
   "outputs": [
    {
     "name": "stdout",
     "output_type": "stream",
     "text": [
      "running 'DAMASK_grid -g 10grains_voronoi_2x5x1.vti -l tensionX_rotation_z45.yaml -m material_fullfield_10grains_Al.yaml -w reference_output/tensionX_rotation_z45_material_fullfield_10grains_Al_10grains_voronoi_2x5x1 -j simulation_output' in './'\n",
      "Run successful for: reference_input/tensionX_rotation_z45.yaml, reference_input/material_fullfield_10grains_Al.yaml, reference_input/10grains_voronoi_2x5x1.vti\n"
     ]
    }
   ],
   "source": [
    "run_simulation('reference_input/10grains_voronoi_2x5x1.vti',\n",
    "               'reference_input/tensionX_rotation_z45.yaml',\n",
    "               'reference_input/material_fullfield_10grains_Al.yaml')"
   ]
  },
  {
   "cell_type": "markdown",
   "metadata": {},
   "source": [
    "# Run 10 Grain 125 Materialpoint dual phase steel fullfield simulation"
   ]
  },
  {
   "cell_type": "code",
   "execution_count": 6,
   "metadata": {},
   "outputs": [
    {
     "name": "stdout",
     "output_type": "stream",
     "text": [
      "running 'DAMASK_grid -g 10grains_voronoi_5x5x5.vti -l tensionX.yaml -m material_fullfield_10materials_6ferrite_4martensite.yaml -w reference_output/tensionX_material_fullfield_10materials_6ferrite_4martensite_10grains_voronoi_5x5x5 -j simulation_output' in './'\n",
      "Run successful for: reference_input/tensionX.yaml, reference_input/material_fullfield_10materials_6ferrite_4martensite.yaml, reference_input/10grains_voronoi_5x5x5.vti\n"
     ]
    }
   ],
   "source": [
    "run_simulation('reference_input/10grains_voronoi_5x5x5.vti',\n",
    "               'reference_input/tensionX.yaml',\n",
    "               'reference_input/material_fullfield_10materials_6ferrite_4martensite.yaml')"
   ]
  },
  {
   "cell_type": "markdown",
   "metadata": {},
   "source": [
    "# Run 10 Materials 10 Materialpoint dual phase steel meanfield simulation"
   ]
  },
  {
   "cell_type": "markdown",
   "metadata": {},
   "source": [
    "#### Note that we are using geometries that aggregate over grains for meanfiled, so n_grains >= n_materialpoints"
   ]
  },
  {
   "cell_type": "code",
   "execution_count": 7,
   "metadata": {},
   "outputs": [
    {
     "name": "stdout",
     "output_type": "stream",
     "text": [
      "running 'DAMASK_grid -g 10grains_voronoi_2x5x1.vti -l tensionX.yaml -m material_meanfield_10materials_0.6ferrite_0.4martensite.yaml -w reference_output/tensionX_material_meanfield_10materials_0.6ferrite_0.4martensite_10grains_voronoi_2x5x1 -j simulation_output' in './'\n",
      "Run successful for: reference_input/tensionX.yaml, reference_input/material_meanfield_10materials_0.6ferrite_0.4martensite.yaml, reference_input/10grains_voronoi_2x5x1.vti\n"
     ]
    }
   ],
   "source": [
    "run_simulation('reference_input/10grains_voronoi_2x5x1.vti',\n",
    "               'reference_input/tensionX.yaml',\n",
    "               'reference_input/material_meanfield_10materials_0.6ferrite_0.4martensite.yaml')"
   ]
  },
  {
   "cell_type": "markdown",
   "metadata": {},
   "source": [
    "# Use a different volumefraction"
   ]
  },
  {
   "cell_type": "code",
   "execution_count": 8,
   "metadata": {},
   "outputs": [
    {
     "name": "stdout",
     "output_type": "stream",
     "text": [
      "running 'DAMASK_grid -g 20grains_voronoi_5x4x1.vti -l tensionX.yaml -m material_meanfield_20materials_0.5ferrite_0.5martensite.yaml -w reference_output/tensionX_material_meanfield_20materials_0.5ferrite_0.5martensite_20grains_voronoi_5x4x1 -j simulation_output' in './'\n",
      "Run successful for: reference_input/tensionX.yaml, reference_input/material_meanfield_20materials_0.5ferrite_0.5martensite.yaml, reference_input/20grains_voronoi_5x4x1.vti\n"
     ]
    }
   ],
   "source": [
    "run_simulation('reference_input/20grains_voronoi_5x4x1.vti',\n",
    "               'reference_input/tensionX.yaml',\n",
    "               'reference_input/material_meanfield_20materials_0.5ferrite_0.5martensite.yaml')"
   ]
  },
  {
   "cell_type": "markdown",
   "metadata": {},
   "source": [
    "# Run 50grains IF Steel example with consecutive tensionX-tensionY"
   ]
  },
  {
   "cell_type": "code",
   "execution_count": 9,
   "metadata": {},
   "outputs": [
    {
     "name": "stdout",
     "output_type": "stream",
     "text": [
      "running 'DAMASK_grid -g 50grains_voronoi_5x5x5.vti -l tensionX.yaml -m material_fullfield_50grains_IFSteel.yaml -w reference_output/tensionX_material_fullfield_50grains_IFSteel_50grains_voronoi_5x5x5 -j simulation_output' in './'\n",
      "Run successful for: reference_input/tensionX.yaml, reference_input/material_fullfield_50grains_IFSteel.yaml, reference_input/50grains_voronoi_5x5x5.vti\n"
     ]
    }
   ],
   "source": [
    "run_simulation('reference_input/50grains_voronoi_5x5x5.vti',\n",
    "               'reference_input/tensionX.yaml',\n",
    "               'reference_input/material_fullfield_50grains_IFSteel.yaml')"
   ]
  }
 ],
 "metadata": {
  "kernelspec": {
   "display_name": "Python 3",
   "language": "python",
   "name": "python3"
  },
  "language_info": {
   "codemirror_mode": {
    "name": "ipython",
    "version": 3
   },
   "file_extension": ".py",
   "mimetype": "text/x-python",
   "name": "python",
   "nbconvert_exporter": "python",
   "pygments_lexer": "ipython3",
   "version": "3.10.12"
  }
 },
 "nbformat": 4,
 "nbformat_minor": 2
}

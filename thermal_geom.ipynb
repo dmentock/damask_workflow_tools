{
 "cells": [
  {
   "cell_type": "code",
   "execution_count": 1,
   "id": "12cf73f9-80db-4e48-8a7f-ba2710d9dba2",
   "metadata": {},
   "outputs": [],
   "source": [
    "import damask\n",
    "import numpy as np"
   ]
  },
  {
   "cell_type": "code",
   "execution_count": 2,
   "id": "8885f04d-81bc-4a3e-a145-68a28c6ecb19",
   "metadata": {},
   "outputs": [],
   "source": [
    "geom = damask.GeomGrid.load(\"reference_input/10grains_voronoi_5x5x5.vti\")"
   ]
  },
  {
   "cell_type": "code",
   "execution_count": 3,
   "id": "e07c9a14-a2af-4459-9b8e-d7d2dc68a7a2",
   "metadata": {},
   "outputs": [
    {
     "data": {
      "text/plain": [
       "cells:  5 × 5 × 5\n",
       "size:   5e-05 × 5e-05 × 5e-05 m³\n",
       "origin: 0.0   0.0   0.0 m\n",
       "# materials: 10"
      ]
     },
     "execution_count": 3,
     "metadata": {},
     "output_type": "execute_result"
    }
   ],
   "source": [
    "geom"
   ]
  },
  {
   "cell_type": "code",
   "execution_count": null,
   "id": "b7200357-6c58-4ee1-bf79-cd7a75296baf",
   "metadata": {},
   "outputs": [],
   "source": []
  },
  {
   "cell_type": "markdown",
   "id": "f5ab169c-eb90-472b-9141-2dcb04df67cb",
   "metadata": {},
   "source": [
    "# Homogeneous temperature distribution"
   ]
  },
  {
   "cell_type": "code",
   "execution_count": 6,
   "id": "34fce45d-5972-46a7-a1e6-95ed9cdcc067",
   "metadata": {},
   "outputs": [],
   "source": [
    "T = 273.0"
   ]
  },
  {
   "cell_type": "code",
   "execution_count": 7,
   "id": "73c8b1e3-b572-4a93-b163-eea584c76cc8",
   "metadata": {},
   "outputs": [],
   "source": [
    "geom.initial_conditions[\"T\"] = T"
   ]
  },
  {
   "cell_type": "code",
   "execution_count": 9,
   "id": "c48fb88c-b7d5-48b1-8ebd-e8a68a2df4f7",
   "metadata": {},
   "outputs": [
    {
     "data": {
      "text/plain": [
       "cells:  5 × 5 × 5\n",
       "size:   5e-05 × 5e-05 × 5e-05 m³\n",
       "origin: 0.0   0.0   0.0 m\n",
       "# materials: 10\n",
       "initial_conditions:\n",
       "  - T"
      ]
     },
     "execution_count": 9,
     "metadata": {},
     "output_type": "execute_result"
    }
   ],
   "source": [
    "geom"
   ]
  },
  {
   "cell_type": "code",
   "execution_count": 10,
   "id": "5d7f9c14-a2ab-40b3-8dbe-1952bbc81840",
   "metadata": {},
   "outputs": [
    {
     "data": {
      "text/plain": [
       "array([[[273., 273., 273., 273., 273.],\n",
       "        [273., 273., 273., 273., 273.],\n",
       "        [273., 273., 273., 273., 273.],\n",
       "        [273., 273., 273., 273., 273.],\n",
       "        [273., 273., 273., 273., 273.]],\n",
       "\n",
       "       [[273., 273., 273., 273., 273.],\n",
       "        [273., 273., 273., 273., 273.],\n",
       "        [273., 273., 273., 273., 273.],\n",
       "        [273., 273., 273., 273., 273.],\n",
       "        [273., 273., 273., 273., 273.]],\n",
       "\n",
       "       [[273., 273., 273., 273., 273.],\n",
       "        [273., 273., 273., 273., 273.],\n",
       "        [273., 273., 273., 273., 273.],\n",
       "        [273., 273., 273., 273., 273.],\n",
       "        [273., 273., 273., 273., 273.]],\n",
       "\n",
       "       [[273., 273., 273., 273., 273.],\n",
       "        [273., 273., 273., 273., 273.],\n",
       "        [273., 273., 273., 273., 273.],\n",
       "        [273., 273., 273., 273., 273.],\n",
       "        [273., 273., 273., 273., 273.]],\n",
       "\n",
       "       [[273., 273., 273., 273., 273.],\n",
       "        [273., 273., 273., 273., 273.],\n",
       "        [273., 273., 273., 273., 273.],\n",
       "        [273., 273., 273., 273., 273.],\n",
       "        [273., 273., 273., 273., 273.]]])"
      ]
     },
     "execution_count": 10,
     "metadata": {},
     "output_type": "execute_result"
    }
   ],
   "source": [
    "geom.initial_conditions[\"T\"]"
   ]
  },
  {
   "cell_type": "code",
   "execution_count": 11,
   "id": "1312d105-15b9-4d63-9239-2ff9743c8783",
   "metadata": {},
   "outputs": [],
   "source": [
    "geom.save(\"thermal/10grains_voronoi_5x5x5_homogeneous_T.vti\")"
   ]
  },
  {
   "cell_type": "code",
   "execution_count": null,
   "id": "46ec847f-5bac-4fe0-8ee9-bfd522f63a02",
   "metadata": {},
   "outputs": [],
   "source": []
  },
  {
   "cell_type": "markdown",
   "id": "6bee5581-81af-4e92-bb9e-d7e96652262a",
   "metadata": {},
   "source": [
    "# Random temperature distribution"
   ]
  },
  {
   "cell_type": "code",
   "execution_count": 20,
   "id": "605f8ffa-5096-49c7-9e9f-8107e388ed3d",
   "metadata": {},
   "outputs": [],
   "source": [
    "T = np.random.rand(np.prod(geom.cells)) * 273.0"
   ]
  },
  {
   "cell_type": "code",
   "execution_count": 28,
   "id": "0291b9f1-9622-4e2c-addb-0a25c0e50ea2",
   "metadata": {},
   "outputs": [
    {
     "data": {
      "text/plain": [
       "(125,)"
      ]
     },
     "execution_count": 28,
     "metadata": {},
     "output_type": "execute_result"
    }
   ],
   "source": [
    "T.shape"
   ]
  },
  {
   "cell_type": "code",
   "execution_count": 22,
   "id": "e1bfa124-edf1-4b29-a16a-b126fcd5b418",
   "metadata": {},
   "outputs": [],
   "source": [
    "geom = damask.GeomGrid.load(\"reference_input/10grains_voronoi_5x5x5.vti\")"
   ]
  },
  {
   "cell_type": "code",
   "execution_count": 30,
   "id": "8718c1fe-e732-46e7-b017-71d15b0e04a4",
   "metadata": {},
   "outputs": [],
   "source": [
    "geom.initial_conditions[\"T\"] = np.reshape(T, newshape=geom.cells)"
   ]
  },
  {
   "cell_type": "code",
   "execution_count": 32,
   "id": "cc234d55-ff9f-40b2-a4c8-522668ab937e",
   "metadata": {},
   "outputs": [],
   "source": [
    "geom.save(\"thermal/10grains_voronoi_5x5x5_nonhomogeneous_T.vti\")"
   ]
  },
  {
   "cell_type": "code",
   "execution_count": null,
   "id": "4a9d9d1b-210a-4a86-ba9b-f5fe075b64bf",
   "metadata": {},
   "outputs": [],
   "source": []
  }
 ],
 "metadata": {
  "kernelspec": {
   "display_name": "Python 3 (ipykernel)",
   "language": "python",
   "name": "python3"
  },
  "language_info": {
   "codemirror_mode": {
    "name": "ipython",
    "version": 3
   },
   "file_extension": ".py",
   "mimetype": "text/x-python",
   "name": "python",
   "nbconvert_exporter": "python",
   "pygments_lexer": "ipython3",
   "version": "3.12.4"
  }
 },
 "nbformat": 4,
 "nbformat_minor": 5
}

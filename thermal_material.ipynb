{
 "cells": [
  {
   "cell_type": "markdown",
   "id": "0bf118db-62b5-4823-8972-d576a598931a",
   "metadata": {},
   "source": [
    "import damask\n",
    "import numpy as np"
   ]
  },
  {
   "cell_type": "code",
   "execution_count": 8,
   "id": "d9b26b8c-9901-4ffc-a120-40c2083c2127",
   "metadata": {},
   "outputs": [],
   "source": [
    "m = damask.YAML.load(\"reference_input/material_fullfield_50grains_IFSteel.yaml\")"
   ]
  },
  {
   "cell_type": "markdown",
   "id": "72e15b84-a553-4b28-9000-9978d279811e",
   "metadata": {
    "jp-MarkdownHeadingCollapsed": true
   },
   "source": [
    "## Adding density"
   ]
  },
  {
   "cell_type": "code",
   "execution_count": 10,
   "id": "d1fccbfd-91d7-4aaa-8779-b88e6c311f01",
   "metadata": {},
   "outputs": [],
   "source": [
    "m[\"phase\"][\"IFSteel\"][\"rho\"] = damask.YAML.load(\"examples/config/phase/Fe.yaml\")[\"rho\"]"
   ]
  },
  {
   "cell_type": "markdown",
   "id": "7731d37c-da5e-45dd-bcd6-c1a6e73519a5",
   "metadata": {
    "jp-MarkdownHeadingCollapsed": true
   },
   "source": [
    "## Adding eigen strains caused by thermal expansion"
   ]
  },
  {
   "cell_type": "code",
   "execution_count": 14,
   "id": "69af3096-2590-4b6b-839a-50a4fee5c71d",
   "metadata": {},
   "outputs": [],
   "source": [
    "m[\"phase\"][\"IFSteel\"][\"mechanical\"][\"eigen\"] = damask.YAML.load(\"examples/config/phase/mechanical/eigen/thermalexpansion_Fe.yaml\")"
   ]
  },
  {
   "cell_type": "markdown",
   "id": "49393113-c25c-46b3-94ee-987a233caa9a",
   "metadata": {},
   "source": [
    "## Adding thermal dictionary"
   ]
  },
  {
   "cell_type": "code",
   "execution_count": 15,
   "id": "ba5f7b3a-e0fb-44d0-9a13-e020e88b7626",
   "metadata": {},
   "outputs": [],
   "source": [
    "m[\"phase\"][\"IFSteel\"][\"thermal\"] = damask.YAML.load(\"examples/config/phase/thermal/Fe.yaml\")"
   ]
  },
  {
   "cell_type": "markdown",
   "id": "3af6762d-b30e-4bce-b846-293b5a047400",
   "metadata": {},
   "source": [
    "## Adding thermal source"
   ]
  },
  {
   "cell_type": "code",
   "execution_count": 17,
   "id": "ad1129a6-b1e2-470c-b3ae-030ca289224a",
   "metadata": {},
   "outputs": [],
   "source": [
    "m[\"phase\"][\"IFSteel\"][\"thermal\"][\"source\"] = damask.YAML.load(\"examples/config/phase/thermal/source/dissipation_generic.yaml\")"
   ]
  },
  {
   "cell_type": "code",
   "execution_count": 19,
   "id": "c6927ca5-4d02-40c6-98e0-0e3be988dde2",
   "metadata": {},
   "outputs": [],
   "source": [
    "m.save(\"thermal/material.yaml\")"
   ]
  },
  {
   "cell_type": "code",
   "execution_count": null,
   "id": "3fa24456-a40e-4f61-861d-baac41cae0d1",
   "metadata": {},
   "outputs": [],
   "source": []
  }
 ],
 "metadata": {
  "kernelspec": {
   "display_name": "Python 3 (ipykernel)",
   "language": "python",
   "name": "python3"
  },
  "language_info": {
   "codemirror_mode": {
    "name": "ipython",
    "version": 3
   },
   "file_extension": ".py",
   "mimetype": "text/x-python",
   "name": "python",
   "nbconvert_exporter": "python",
   "pygments_lexer": "ipython3",
   "version": "3.12.4"
  }
 },
 "nbformat": 4,
 "nbformat_minor": 5
}

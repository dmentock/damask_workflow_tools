{
 "cells": [
  {
   "cell_type": "code",
   "execution_count": 35,
   "id": "9b5cdd1b-74a0-45f1-87e4-98c9590ec42e",
   "metadata": {},
   "outputs": [],
   "source": [
    "import damask\n",
    "import numpy as np"
   ]
  },
  {
   "cell_type": "code",
   "execution_count": 36,
   "id": "d9b26b8c-9901-4ffc-a120-40c2083c2127",
   "metadata": {},
   "outputs": [],
   "source": [
    "m = damask.YAML.load(\"reference_input/material_fullfield_50grains_IFSteel.yaml\")"
   ]
  },
  {
   "cell_type": "markdown",
   "id": "72e15b84-a553-4b28-9000-9978d279811e",
   "metadata": {},
   "source": [
    "## Adding density"
   ]
  },
  {
   "cell_type": "code",
   "execution_count": 37,
   "id": "d1fccbfd-91d7-4aaa-8779-b88e6c311f01",
   "metadata": {},
   "outputs": [],
   "source": [
    "m[\"phase\"][\"IFSteel\"][\"rho\"] = damask.YAML.load(\"examples/config/phase/Fe.yaml\")[\"rho\"]"
   ]
  },
  {
   "cell_type": "markdown",
   "id": "7731d37c-da5e-45dd-bcd6-c1a6e73519a5",
   "metadata": {},
   "source": [
    "## Adding eigen strains caused by thermal expansion"
   ]
  },
  {
   "cell_type": "code",
   "execution_count": 38,
   "id": "69af3096-2590-4b6b-839a-50a4fee5c71d",
   "metadata": {},
   "outputs": [],
   "source": [
    "m[\"phase\"][\"IFSteel\"][\"mechanical\"][\"eigen\"] = [damask.YAML.load(\"examples/config/phase/mechanical/eigen/thermalexpansion_Fe.yaml\")]"
   ]
  },
  {
   "cell_type": "markdown",
   "id": "49393113-c25c-46b3-94ee-987a233caa9a",
   "metadata": {},
   "source": [
    "## Adding thermal dictionary"
   ]
  },
  {
   "cell_type": "code",
   "execution_count": 39,
   "id": "ba5f7b3a-e0fb-44d0-9a13-e020e88b7626",
   "metadata": {},
   "outputs": [],
   "source": [
    "m[\"phase\"][\"IFSteel\"][\"thermal\"] = damask.YAML.load(\"examples/config/phase/thermal/Fe.yaml\")"
   ]
  },
  {
   "cell_type": "markdown",
   "id": "3af6762d-b30e-4bce-b846-293b5a047400",
   "metadata": {},
   "source": [
    "## Adding thermal source"
   ]
  },
  {
   "cell_type": "code",
   "execution_count": 40,
   "id": "ad1129a6-b1e2-470c-b3ae-030ca289224a",
   "metadata": {},
   "outputs": [],
   "source": [
    "m[\"phase\"][\"IFSteel\"][\"thermal\"][\"source\"] = [damask.YAML.load(\"examples/config/phase/thermal/source/dissipation_generic.yaml\")]"
   ]
  },
  {
   "cell_type": "markdown",
   "id": "ea6e9eb2-c7a8-46fc-8625-0e9b31c85c9b",
   "metadata": {},
   "source": [
    "## Add thermal homogenization dictionary"
   ]
  },
  {
   "cell_type": "code",
   "execution_count": 41,
   "id": "d6d3c855-209b-4b4d-b669-e40992e60908",
   "metadata": {},
   "outputs": [],
   "source": [
    "thermal_homog = damask.YAML.load(\"examples/config/homogenization/thermal/pass_direct.yaml\")"
   ]
  },
  {
   "cell_type": "code",
   "execution_count": 42,
   "id": "5c07a76b-cabf-4fb8-a07f-d0ef66434785",
   "metadata": {},
   "outputs": [
    {
     "data": {
      "text/plain": [
       "type: pass\n",
       "output: [T]"
      ]
     },
     "execution_count": 42,
     "metadata": {},
     "output_type": "execute_result"
    }
   ],
   "source": [
    "thermal_homog"
   ]
  },
  {
   "cell_type": "code",
   "execution_count": 43,
   "id": "c9241f97-5a12-489a-97aa-0038a11ea244",
   "metadata": {},
   "outputs": [],
   "source": [
    "m[\"homogenization\"][\"SX\"][\"thermal\"] = thermal_homog"
   ]
  },
  {
   "cell_type": "markdown",
   "id": "e47ae38f-7cba-4dbe-aa7f-8e867488b6a3",
   "metadata": {},
   "source": [
    "## save file"
   ]
  },
  {
   "cell_type": "code",
   "execution_count": 44,
   "id": "d607d1fa-9b6a-4a94-b1ac-36ab1b698b6a",
   "metadata": {},
   "outputs": [],
   "source": [
    "m.save(\"thermal/material.yaml\")"
   ]
  },
  {
   "cell_type": "code",
   "execution_count": null,
   "id": "9d6e25a8-9a71-4e86-931b-e482ef44e9a9",
   "metadata": {},
   "outputs": [],
   "source": []
  }
 ],
 "metadata": {
  "kernelspec": {
   "display_name": "Python 3 (ipykernel)",
   "language": "python",
   "name": "python3"
  },
  "language_info": {
   "codemirror_mode": {
    "name": "ipython",
    "version": 3
   },
   "file_extension": ".py",
   "mimetype": "text/x-python",
   "name": "python",
   "nbconvert_exporter": "python",
   "pygments_lexer": "ipython3",
   "version": "3.12.4"
  }
 },
 "nbformat": 4,
 "nbformat_minor": 5
}

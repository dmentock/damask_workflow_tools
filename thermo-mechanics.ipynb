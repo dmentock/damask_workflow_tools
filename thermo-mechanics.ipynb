{
 "cells": [
  {
   "cell_type": "code",
   "execution_count": 5,
   "id": "7c9c453f-6a91-4d00-bd53-fb53e1eb07c7",
   "metadata": {},
   "outputs": [],
   "source": [
    "import damask\n",
    "import numpy as np"
   ]
  },
  {
   "cell_type": "markdown",
   "id": "6632979f-6c22-45dc-b27c-73ee0bbf8e94",
   "metadata": {},
   "source": [
    "## Voronoi geometry with 4096 cells and 50 grains with initial temperature as 303 K"
   ]
  },
  {
   "cell_type": "code",
   "execution_count": 6,
   "id": "9e30d983-a6e5-407a-85e8-b66aefee7d22",
   "metadata": {},
   "outputs": [],
   "source": [
    "cells = [16,16,16]\n",
    "size = np.array(cells)*1.0\n",
    "N_grains = 50\n",
    "seeds = damask.seeds.from_random(size,N_grains,cells)\n",
    "grid = damask.GeomGrid.from_Voronoi_tessellation(cells,size,seeds)"
   ]
  },
  {
   "cell_type": "code",
   "execution_count": 7,
   "id": "e61b29b6-8607-402a-afcf-751b02916388",
   "metadata": {},
   "outputs": [],
   "source": [
    "grid.initial_conditions[\"T\"] = 303.0"
   ]
  },
  {
   "cell_type": "code",
   "execution_count": 8,
   "id": "abce3ac8-d633-4c82-b22e-9492fb2b11c9",
   "metadata": {},
   "outputs": [],
   "source": [
    "grid.save(\"thermal/Voronoi.vti\")"
   ]
  },
  {
   "cell_type": "markdown",
   "id": "af7d2e53-8bce-4160-9143-16771ca6403b",
   "metadata": {},
   "source": [
    "## Load file which specifies the thermal solver"
   ]
  },
  {
   "cell_type": "code",
   "execution_count": 14,
   "id": "0e07cc61-7d1e-4f15-8678-8f11830b8326",
   "metadata": {},
   "outputs": [],
   "source": [
    "load = damask.YAML.load(\"reference_input/tensionX.yaml\")"
   ]
  },
  {
   "cell_type": "code",
   "execution_count": 15,
   "id": "8171844c-ab45-4fb9-9fe0-8b279240c4c3",
   "metadata": {},
   "outputs": [
    {
     "data": {
      "text/plain": [
       "solver: {mechanical: spectral_basic}\n",
       "loadstep:\n",
       "- boundary_conditions:\n",
       "    mechanical:\n",
       "      dot_F:\n",
       "      - [0.001, 0, 0]\n",
       "      - [0, x, 0]\n",
       "      - [0, 0, x]\n",
       "      P:\n",
       "      - [x, x, x]\n",
       "      - [x, 0, x]\n",
       "      - [x, x, 0]\n",
       "  discretization: {t: 10.0, N: 100}\n",
       "  f_out: 4"
      ]
     },
     "execution_count": 15,
     "metadata": {},
     "output_type": "execute_result"
    }
   ],
   "source": [
    "load"
   ]
  },
  {
   "cell_type": "code",
   "execution_count": 16,
   "id": "d4fb8efd-0056-414d-8d7f-490a0185d707",
   "metadata": {},
   "outputs": [],
   "source": [
    "load[\"solver\"][\"thermal\"] = \"spectral\""
   ]
  },
  {
   "cell_type": "code",
   "execution_count": 17,
   "id": "e7bc1d52-7531-438a-94c6-87708b04ac65",
   "metadata": {},
   "outputs": [],
   "source": [
    "load.save(\"thermal/tensionX.yaml\")"
   ]
  },
  {
   "cell_type": "code",
   "execution_count": null,
   "id": "919d720a-7392-44a7-9365-f4fc3bb500c5",
   "metadata": {},
   "outputs": [],
   "source": []
  },
  {
   "cell_type": "code",
   "execution_count": 38,
   "id": "fea3088a-9a67-4676-95f5-60b228843530",
   "metadata": {},
   "outputs": [],
   "source": [
    "m = damask.YAML.load(\"thermal/material.yaml\")"
   ]
  },
  {
   "cell_type": "markdown",
   "id": "a0503bb4-fa6c-492a-b59a-4eaaf9a71e40",
   "metadata": {},
   "source": [
    "## Run mechanics at a different temperature (no thermal solving)"
   ]
  },
  {
   "cell_type": "code",
   "execution_count": 39,
   "id": "fcfd4e28-5006-4b5f-96e3-feed6382e1df",
   "metadata": {},
   "outputs": [],
   "source": [
    "m_new = m"
   ]
  },
  {
   "cell_type": "code",
   "execution_count": 40,
   "id": "566a01f5-11de-4e5b-9cbf-fc068aeeb5d0",
   "metadata": {},
   "outputs": [
    {
     "data": {
      "text/plain": [
       "{'references': ['J.G. Hust and A.B. Lankford, Thermal Conductivity of Aluminum, Copper, Iron, and Tungsten from 1K to the Melting Point, US Department of Commerce, Boulder, Colorado, 1984, fit to Tab. 4.4.1 (RRR=300, T_min=150K, T_max=1000K)',\n",
       "  'https://www.engineeringtoolbox.com/specific-heat-metals-d_152.html'],\n",
       " 'output': ['T'],\n",
       " 'K_11': 80.34,\n",
       " 'K_11,T': -0.1216,\n",
       " 'K_11,T^2': 0.0001327,\n",
       " 'K_11,T^3': -7.993e-08,\n",
       " 'T_ref': 293.15,\n",
       " 'C_p': 450.0,\n",
       " 'source': [{'type': 'dissipation', 'kappa': 0.9}]}"
      ]
     },
     "execution_count": 40,
     "metadata": {},
     "output_type": "execute_result"
    }
   ],
   "source": [
    "m_new[\"phase\"][\"IFSteel\"][\"thermal\"]"
   ]
  },
  {
   "cell_type": "code",
   "execution_count": 41,
   "id": "2fa96b6b-0ad8-4f4f-82d2-da24adfab57d",
   "metadata": {},
   "outputs": [],
   "source": [
    "m_new[\"phase\"][\"IFSteel\"][\"thermal\"][\"K_11\"] = 0.0\n",
    "m_new[\"phase\"][\"IFSteel\"][\"thermal\"][\"K_11,T\"] = 0.0\n",
    "m_new[\"phase\"][\"IFSteel\"][\"thermal\"][\"K_11,T^2\"] = 0.0\n",
    "m_new[\"phase\"][\"IFSteel\"][\"thermal\"][\"K_11,T^3\"] = 0.0"
   ]
  },
  {
   "cell_type": "code",
   "execution_count": 42,
   "id": "4e84da81-181d-483b-96f4-c22babf6c23e",
   "metadata": {},
   "outputs": [
    {
     "data": {
      "text/plain": [
       "[{'type': 'dissipation', 'kappa': 0.9}]"
      ]
     },
     "execution_count": 42,
     "metadata": {},
     "output_type": "execute_result"
    }
   ],
   "source": [
    "m_new[\"phase\"][\"IFSteel\"][\"thermal\"].pop(\"source\", None)"
   ]
  },
  {
   "cell_type": "code",
   "execution_count": 43,
   "id": "6a139fdf-9b5e-4ee1-9363-84e4a9a6a500",
   "metadata": {},
   "outputs": [],
   "source": [
    "m_new.save(\"thermal/material_no_temp_solve.yaml\")"
   ]
  },
  {
   "cell_type": "markdown",
   "id": "eaca5dee-d016-43eb-b1e7-1fe7d452f84c",
   "metadata": {},
   "source": [
    "## thermo-mechanics with conduction"
   ]
  },
  {
   "cell_type": "code",
   "execution_count": 44,
   "id": "67b49228-9e0b-4cd3-874c-78e809cad144",
   "metadata": {},
   "outputs": [],
   "source": [
    "m = damask.YAML.load(\"thermal/material.yaml\")"
   ]
  },
  {
   "cell_type": "code",
   "execution_count": 45,
   "id": "fa2c575d-a8bf-422e-ad14-21764a119174",
   "metadata": {},
   "outputs": [],
   "source": [
    "m.save(\"thermal/material_conduction.yaml\")"
   ]
  },
  {
   "cell_type": "code",
   "execution_count": null,
   "id": "f74e1373-714a-4abe-91e9-4bbd519096b0",
   "metadata": {},
   "outputs": [],
   "source": []
  },
  {
   "cell_type": "code",
   "execution_count": 46,
   "id": "6462fbca-339a-45f9-a41e-7509d68347eb",
   "metadata": {},
   "outputs": [],
   "source": [
    "m = damask.YAML.load(\"thermal/material.yaml\")"
   ]
  },
  {
   "cell_type": "code",
   "execution_count": 47,
   "id": "2fbf3789-dc0a-45d4-ac54-a28969b77a03",
   "metadata": {},
   "outputs": [],
   "source": [
    "m_new[\"phase\"][\"IFSteel\"][\"thermal\"][\"K_11\"] = 0.0\n",
    "m_new[\"phase\"][\"IFSteel\"][\"thermal\"][\"K_11,T\"] = 0.0\n",
    "m_new[\"phase\"][\"IFSteel\"][\"thermal\"][\"K_11,T^2\"] = 0.0\n",
    "m_new[\"phase\"][\"IFSteel\"][\"thermal\"][\"K_11,T^3\"] = 0.0"
   ]
  },
  {
   "cell_type": "code",
   "execution_count": 48,
   "id": "f7521ff6-b0d8-40eb-874c-f3358b4b6e66",
   "metadata": {},
   "outputs": [],
   "source": [
    "m.save(\"thermal/material_adiabatic.yaml\")"
   ]
  },
  {
   "cell_type": "code",
   "execution_count": null,
   "id": "d68e6784-c5b5-49ba-859e-d91996099146",
   "metadata": {},
   "outputs": [],
   "source": []
  },
  {
   "cell_type": "code",
   "execution_count": null,
   "id": "da753a25-9bba-489a-a04a-caabd1723c6a",
   "metadata": {},
   "outputs": [],
   "source": []
  }
 ],
 "metadata": {
  "kernelspec": {
   "display_name": "Python 3 (ipykernel)",
   "language": "python",
   "name": "python3"
  },
  "language_info": {
   "codemirror_mode": {
    "name": "ipython",
    "version": 3
   },
   "file_extension": ".py",
   "mimetype": "text/x-python",
   "name": "python",
   "nbconvert_exporter": "python",
   "pygments_lexer": "ipython3",
   "version": "3.12.4"
  }
 },
 "nbformat": 4,
 "nbformat_minor": 5
}
